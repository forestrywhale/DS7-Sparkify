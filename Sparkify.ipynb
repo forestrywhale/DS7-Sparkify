{
 "cells": [
  {
   "cell_type": "markdown",
   "metadata": {},
   "source": [
    "# Sparkify Project Workspace\n",
    "This workspace contains a tiny subset (128MB) of the full dataset available (12GB). Feel free to use this workspace to build your project, or to explore a smaller subset with Spark before deploying your cluster on the cloud. Instructions for setting up your Spark cluster is included in the last lesson of the Extracurricular Spark Course content.\n",
    "\n",
    "You can follow the steps below to guide your data analysis and model building portion of this project."
   ]
  },
  {
   "cell_type": "code",
   "execution_count": 113,
   "metadata": {},
   "outputs": [],
   "source": [
    "# import libraries\n",
    "import pandas as pd\n",
    "import pyspark\n",
    "import numpy as np\n",
    "%matplotlib inline\n",
    "import matplotlib.pyplot as plt\n",
    "\n",
    "from pyspark import SparkConf\n",
    "from pyspark.sql import SparkSession\n",
    "from pyspark.sql.functions import udf\n",
    "from pyspark.sql.types import StringType\n",
    "from pyspark.sql.types import IntegerType\n",
    "from pyspark.sql.functions import desc\n",
    "from pyspark.sql.functions import asc\n",
    "from pyspark.sql.functions import sum as Fsum\n",
    "import pyspark.sql.functions as F\n",
    "from pyspark.sql.functions import avg, col, concat, count, desc, explode, lit, min, max, split, stddev, udf\n",
    "from pyspark.sql import Window\n",
    "\n",
    "from pyspark.ml.feature import CountVectorizer, IDF, Normalizer, PCA, RegexTokenizer, StandardScaler, StopWordsRemover, StringIndexer, VectorAssembler\n",
    "from pyspark.ml.regression import LinearRegression, GeneralizedLinearRegression\n",
    "from pyspark.ml.evaluation import MulticlassClassificationEvaluator\n",
    "\n",
    "import re\n",
    "import os\n",
    "import datetime\n"
   ]
  },
  {
   "cell_type": "code",
   "execution_count": 2,
   "metadata": {},
   "outputs": [],
   "source": [
    "# create a Spark session\n",
    "spark = SparkSession \\\n",
    "    .builder \\\n",
    "    .appName(\"sparkify\") \\\n",
    "    .getOrCreate()"
   ]
  },
  {
   "cell_type": "code",
   "execution_count": 3,
   "metadata": {},
   "outputs": [
    {
     "data": {
      "text/plain": [
       "[('spark.driver.port', '33333'),\n",
       " ('spark.app.name', 'sparkify'),\n",
       " ('spark.rdd.compress', 'True'),\n",
       " ('spark.driver.host', 'b9a1706a3fb8'),\n",
       " ('spark.serializer.objectStreamReset', '100'),\n",
       " ('spark.master', 'local[*]'),\n",
       " ('spark.executor.id', 'driver'),\n",
       " ('spark.submit.deployMode', 'client'),\n",
       " ('spark.ui.showConsoleProgress', 'true'),\n",
       " ('spark.app.id', 'local-1574033233346')]"
      ]
     },
     "execution_count": 3,
     "metadata": {},
     "output_type": "execute_result"
    }
   ],
   "source": [
    "spark.sparkContext.getConf().getAll()"
   ]
  },
  {
   "cell_type": "code",
   "execution_count": 4,
   "metadata": {},
   "outputs": [
    {
     "data": {
      "text/html": [
       "\n",
       "            <div>\n",
       "                <p><b>SparkSession - in-memory</b></p>\n",
       "                \n",
       "        <div>\n",
       "            <p><b>SparkContext</b></p>\n",
       "\n",
       "            <p><a href=\"http://b9a1706a3fb8:4040\">Spark UI</a></p>\n",
       "\n",
       "            <dl>\n",
       "              <dt>Version</dt>\n",
       "                <dd><code>v2.4.3</code></dd>\n",
       "              <dt>Master</dt>\n",
       "                <dd><code>local[*]</code></dd>\n",
       "              <dt>AppName</dt>\n",
       "                <dd><code>sparkify</code></dd>\n",
       "            </dl>\n",
       "        </div>\n",
       "        \n",
       "            </div>\n",
       "        "
      ],
      "text/plain": [
       "<pyspark.sql.session.SparkSession at 0x7f7b65340630>"
      ]
     },
     "execution_count": 4,
     "metadata": {},
     "output_type": "execute_result"
    }
   ],
   "source": [
    "spark"
   ]
  },
  {
   "cell_type": "markdown",
   "metadata": {},
   "source": [
    "# 1. Load and Clean Dataset\n",
    "In this workspace, the mini-dataset file is `mini_sparkify_event_data.json`. Load and clean the dataset, checking for invalid or missing data - for example, records without userids or sessionids. \n",
    "\n",
    "### 1.1 Load Dataset"
   ]
  },
  {
   "cell_type": "code",
   "execution_count": 5,
   "metadata": {},
   "outputs": [
    {
     "name": "stdout",
     "output_type": "stream",
     "text": [
      "{\"ts\":1538352117000,\"userId\":\"30\",\"sessionId\":29,\"page\":\"NextSong\",\"auth\":\"Logged In\",\"method\":\"PUT\",\"status\":200,\"level\":\"paid\",\"itemInSession\":50,\"location\":\"Bakersfield, CA\",\"userAgent\":\"Mozilla/5.0 (Windows NT 6.1; WOW64; rv:31.0) Gecko/20100101 Firefox/31.0\",\"lastName\":\"Freeman\",\"firstName\":\"Colin\",\"registration\":1538173362000,\"gender\":\"M\",\"artist\":\"Martha Tilston\",\"song\":\"Rockpools\",\"length\":277.89016}\n",
      "\n",
      "{\"ts\":1538352180000,\"userId\":\"9\",\"sessionId\":8,\"page\":\"NextSong\",\"auth\":\"Logged In\",\"method\":\"PUT\",\"status\":200,\"level\":\"free\",\"itemInSession\":79,\"location\":\"Boston-Cambridge-Newton, MA-NH\",\"userAgent\":\"\\\"Mozilla/5.0 (Windows NT 6.1; WOW64) AppleWebKit/537.36 (KHTML, like Gecko) Chrome/37.0.2062.103 Safari/537.36\\\"\",\"lastName\":\"Long\",\"firstName\":\"Micah\",\"registration\":1538331630000,\"gender\":\"M\",\"artist\":\"Five Iron Frenzy\",\"song\":\"Canada\",\"length\":236.09424}\n",
      "\n",
      "{\"ts\":1538352394000,\"userId\":\"30\",\"sessionId\":29,\"page\":\"NextSong\",\"auth\":\"Logged In\",\"method\":\"PUT\",\"status\":200,\"level\":\"paid\",\"itemInSession\":51,\"location\":\"Bakersfield, CA\",\"userAgent\":\"Mozilla/5.0 (Windows NT 6.1; WOW64; rv:31.0) Gecko/20100101 Firefox/31.0\",\"lastName\":\"Freeman\",\"firstName\":\"Colin\",\"registration\":1538173362000,\"gender\":\"M\",\"artist\":\"Adam Lambert\",\"song\":\"Time For Miracles\",\"length\":282.8273}\n",
      "\n"
     ]
    }
   ],
   "source": [
    "### \n",
    "#   Run the following cell.\n",
    "#   This cell loads a function that prints the first n lines of\n",
    "#   a file.\n",
    "#\n",
    "#   Then this function is called on the JSON file to print out\n",
    "#   the first line of the population_data.json file\n",
    "###\n",
    "\n",
    "def print_lines(n, file_name):\n",
    "    f = open(file_name)\n",
    "    for i in range(n):\n",
    "        print(f.readline())\n",
    "    f.close()\n",
    "    \n",
    "print_lines(3, 'mini_sparkify_event_data.json')"
   ]
  },
  {
   "cell_type": "code",
   "execution_count": 6,
   "metadata": {},
   "outputs": [],
   "source": [
    "path = \"mini_sparkify_event_data.json\"\n",
    "sparkify_log = spark.read.json(path)"
   ]
  },
  {
   "cell_type": "code",
   "execution_count": 7,
   "metadata": {},
   "outputs": [
    {
     "name": "stdout",
     "output_type": "stream",
     "text": [
      "root\n",
      " |-- artist: string (nullable = true)\n",
      " |-- auth: string (nullable = true)\n",
      " |-- firstName: string (nullable = true)\n",
      " |-- gender: string (nullable = true)\n",
      " |-- itemInSession: long (nullable = true)\n",
      " |-- lastName: string (nullable = true)\n",
      " |-- length: double (nullable = true)\n",
      " |-- level: string (nullable = true)\n",
      " |-- location: string (nullable = true)\n",
      " |-- method: string (nullable = true)\n",
      " |-- page: string (nullable = true)\n",
      " |-- registration: long (nullable = true)\n",
      " |-- sessionId: long (nullable = true)\n",
      " |-- song: string (nullable = true)\n",
      " |-- status: long (nullable = true)\n",
      " |-- ts: long (nullable = true)\n",
      " |-- userAgent: string (nullable = true)\n",
      " |-- userId: string (nullable = true)\n",
      "\n"
     ]
    }
   ],
   "source": [
    "# data type and the column names\n",
    "sparkify_log.printSchema()"
   ]
  },
  {
   "cell_type": "code",
   "execution_count": 8,
   "metadata": {},
   "outputs": [],
   "source": [
    "#sparkify_log.describe().show()"
   ]
  },
  {
   "cell_type": "code",
   "execution_count": 9,
   "metadata": {},
   "outputs": [
    {
     "name": "stdout",
     "output_type": "stream",
     "text": [
      "+-------+------------------+\n",
      "|summary|            artist|\n",
      "+-------+------------------+\n",
      "|  count|            228108|\n",
      "|   mean| 551.0852017937219|\n",
      "| stddev|1217.7693079161374|\n",
      "|    min|               !!!|\n",
      "|    max| ÃÂlafur Arnalds|\n",
      "+-------+------------------+\n",
      "\n"
     ]
    }
   ],
   "source": [
    "sparkify_log.describe('artist').show()"
   ]
  },
  {
   "cell_type": "code",
   "execution_count": 10,
   "metadata": {},
   "outputs": [
    {
     "name": "stdout",
     "output_type": "stream",
     "text": [
      "+-------+-----------------+\n",
      "|summary|        sessionId|\n",
      "+-------+-----------------+\n",
      "|  count|           286500|\n",
      "|   mean|1041.526554973822|\n",
      "| stddev|726.7762634630741|\n",
      "|    min|                1|\n",
      "|    max|             2474|\n",
      "+-------+-----------------+\n",
      "\n"
     ]
    }
   ],
   "source": [
    "sparkify_log.describe(\"sessionId\").show()"
   ]
  },
  {
   "cell_type": "code",
   "execution_count": 11,
   "metadata": {},
   "outputs": [
    {
     "data": {
      "text/plain": [
       "286500"
      ]
     },
     "execution_count": 11,
     "metadata": {},
     "output_type": "execute_result"
    }
   ],
   "source": [
    "# the record number\n",
    "sparkify_log.count()"
   ]
  },
  {
   "cell_type": "code",
   "execution_count": 12,
   "metadata": {},
   "outputs": [
    {
     "name": "stdout",
     "output_type": "stream",
     "text": [
      "+----------+\n",
      "|      auth|\n",
      "+----------+\n",
      "| Cancelled|\n",
      "|     Guest|\n",
      "| Logged In|\n",
      "|Logged Out|\n",
      "+----------+\n",
      "\n"
     ]
    }
   ],
   "source": [
    "sparkify_log.select(\"auth\").dropDuplicates().sort(\"auth\").show()"
   ]
  },
  {
   "cell_type": "code",
   "execution_count": 13,
   "metadata": {},
   "outputs": [
    {
     "name": "stdout",
     "output_type": "stream",
     "text": [
      "+--------+\n",
      "|  length|\n",
      "+--------+\n",
      "|    null|\n",
      "| 0.78322|\n",
      "| 2.16771|\n",
      "| 4.04853|\n",
      "|  4.8322|\n",
      "|  6.3473|\n",
      "| 7.83628|\n",
      "| 8.30649|\n",
      "| 9.01179|\n",
      "|10.03057|\n",
      "|10.52689|\n",
      "|11.20608|\n",
      "|11.25832|\n",
      "|11.36281|\n",
      "|11.49342|\n",
      "|11.54567|\n",
      "|11.93751|\n",
      "|11.98975|\n",
      "|12.22485|\n",
      "|12.30322|\n",
      "+--------+\n",
      "only showing top 20 rows\n",
      "\n"
     ]
    }
   ],
   "source": [
    "sparkify_log.select(\"length\").dropDuplicates().sort(\"length\").show()"
   ]
  },
  {
   "cell_type": "code",
   "execution_count": 14,
   "metadata": {},
   "outputs": [
    {
     "name": "stdout",
     "output_type": "stream",
     "text": [
      "+---------+\n",
      "|sessionId|\n",
      "+---------+\n",
      "|        1|\n",
      "|        2|\n",
      "|        3|\n",
      "|        4|\n",
      "|        5|\n",
      "|        6|\n",
      "|        7|\n",
      "|        8|\n",
      "|        9|\n",
      "|       10|\n",
      "|       11|\n",
      "|       12|\n",
      "|       13|\n",
      "|       15|\n",
      "|       16|\n",
      "|       17|\n",
      "|       18|\n",
      "|       19|\n",
      "|       20|\n",
      "|       21|\n",
      "+---------+\n",
      "only showing top 20 rows\n",
      "\n"
     ]
    }
   ],
   "source": [
    "sparkify_log.select(\"sessionId\").dropDuplicates().sort(\"sessionId\").show()"
   ]
  },
  {
   "cell_type": "code",
   "execution_count": 15,
   "metadata": {},
   "outputs": [
    {
     "name": "stdout",
     "output_type": "stream",
     "text": [
      "+--------------------+\n",
      "|                page|\n",
      "+--------------------+\n",
      "|               About|\n",
      "|          Add Friend|\n",
      "|     Add to Playlist|\n",
      "|              Cancel|\n",
      "|Cancellation Conf...|\n",
      "|           Downgrade|\n",
      "|               Error|\n",
      "|                Help|\n",
      "|                Home|\n",
      "|               Login|\n",
      "|              Logout|\n",
      "|            NextSong|\n",
      "|            Register|\n",
      "|         Roll Advert|\n",
      "|       Save Settings|\n",
      "|            Settings|\n",
      "|    Submit Downgrade|\n",
      "| Submit Registration|\n",
      "|      Submit Upgrade|\n",
      "|         Thumbs Down|\n",
      "|           Thumbs Up|\n",
      "|             Upgrade|\n",
      "+--------------------+\n",
      "\n"
     ]
    }
   ],
   "source": [
    "# list all possible pages\n",
    "sparkify_log.select(\"page\").dropDuplicates().sort(\"page\").show(40)"
   ]
  },
  {
   "cell_type": "markdown",
   "metadata": {},
   "source": [
    "### 1.2 Clean Dataset"
   ]
  },
  {
   "cell_type": "code",
   "execution_count": 16,
   "metadata": {},
   "outputs": [],
   "source": [
    "# clean data\n",
    "# clean the dataset, checking for invalid or missing data - for example, records without userids or sessionids.\n",
    "sparkify_log_valid = sparkify_log.dropna(how = \"any\", subset = [\"userId\", \"sessionId\", 'ts'])"
   ]
  },
  {
   "cell_type": "code",
   "execution_count": 17,
   "metadata": {},
   "outputs": [
    {
     "data": {
      "text/plain": [
       "286500"
      ]
     },
     "execution_count": 17,
     "metadata": {},
     "output_type": "execute_result"
    }
   ],
   "source": [
    "sparkify_log_valid.count()"
   ]
  },
  {
   "cell_type": "code",
   "execution_count": 18,
   "metadata": {},
   "outputs": [
    {
     "name": "stdout",
     "output_type": "stream",
     "text": [
      "+------+\n",
      "|userId|\n",
      "+------+\n",
      "|      |\n",
      "|    10|\n",
      "|   100|\n",
      "|100001|\n",
      "|100002|\n",
      "|100003|\n",
      "|100004|\n",
      "|100005|\n",
      "|100006|\n",
      "|100007|\n",
      "|100008|\n",
      "|100009|\n",
      "|100010|\n",
      "|100011|\n",
      "|100012|\n",
      "|100013|\n",
      "|100014|\n",
      "|100015|\n",
      "|100016|\n",
      "|100017|\n",
      "+------+\n",
      "only showing top 20 rows\n",
      "\n"
     ]
    }
   ],
   "source": [
    "# Looking for unique id of users\n",
    "# Empty string at the first row\n",
    "sparkify_log_valid.select(\"userId\").dropDuplicates().sort(\"userId\").show()"
   ]
  },
  {
   "cell_type": "code",
   "execution_count": 19,
   "metadata": {},
   "outputs": [
    {
     "name": "stdout",
     "output_type": "stream",
     "text": [
      "+---------+\n",
      "|sessionId|\n",
      "+---------+\n",
      "|        1|\n",
      "|        2|\n",
      "|        3|\n",
      "|        4|\n",
      "|        5|\n",
      "|        6|\n",
      "|        7|\n",
      "|        8|\n",
      "|        9|\n",
      "|       10|\n",
      "|       11|\n",
      "|       12|\n",
      "|       13|\n",
      "|       15|\n",
      "|       16|\n",
      "|       17|\n",
      "|       18|\n",
      "|       19|\n",
      "|       20|\n",
      "|       21|\n",
      "+---------+\n",
      "only showing top 20 rows\n",
      "\n"
     ]
    }
   ],
   "source": [
    "# session id looks alright\n",
    "sparkify_log_valid.select(\"sessionId\").dropDuplicates().sort(\"sessionId\").show()"
   ]
  },
  {
   "cell_type": "code",
   "execution_count": 20,
   "metadata": {},
   "outputs": [
    {
     "name": "stdout",
     "output_type": "stream",
     "text": [
      "+-----+\n",
      "|level|\n",
      "+-----+\n",
      "| free|\n",
      "| paid|\n",
      "+-----+\n",
      "\n"
     ]
    }
   ],
   "source": [
    "sparkify_log_valid.select(\"level\").dropDuplicates().sort(\"level\").show()"
   ]
  },
  {
   "cell_type": "code",
   "execution_count": 21,
   "metadata": {},
   "outputs": [],
   "source": [
    "# select only user id  is not empty\n",
    "sparkify_log_valid = sparkify_log_valid.filter(sparkify_log_valid[\"userId\"] != \"\")"
   ]
  },
  {
   "cell_type": "code",
   "execution_count": 22,
   "metadata": {},
   "outputs": [
    {
     "data": {
      "text/plain": [
       "278154"
      ]
     },
     "execution_count": 22,
     "metadata": {},
     "output_type": "execute_result"
    }
   ],
   "source": [
    "# the total number of records after removing empty userid/sessionid records\n",
    "sparkify_log_valid.count()"
   ]
  },
  {
   "cell_type": "code",
   "execution_count": 23,
   "metadata": {},
   "outputs": [],
   "source": [
    "# removing all records with null values\n",
    "#sparkify_log_valid = sparkify_log_valid.na.drop()"
   ]
  },
  {
   "cell_type": "code",
   "execution_count": 24,
   "metadata": {},
   "outputs": [],
   "source": [
    "#sparkify_log_valid.count()"
   ]
  },
  {
   "cell_type": "markdown",
   "metadata": {},
   "source": [
    "It turns out there are no missing values in the userID or session columns. But there are userID values that are empty strings. \n",
    "\n",
    "Removing empty user ids/ session ids, 286500 -> 286500\n",
    "\n",
    "Removing rows with empty userid, 286500 -> 278154\n",
    "\n",
    "Removing all rows with empty values, 278154 -> 228108"
   ]
  },
  {
   "cell_type": "markdown",
   "metadata": {},
   "source": [
    "# 2 . Exploratory Data Analysis\n",
    "When you're working with the full dataset, perform EDA by loading a small subset of the data and doing basic manipulations within Spark. In this workspace, you are already provided a small subset of data you can explore.\n",
    "\n",
    "All features:\n",
    "\n",
    "- artist: string (nullable = true) -> artist name\n",
    "- auth: string (nullable = true) -> cancelled/guest/loggedin/loggedout\n",
    "- firstName: string (nullable = true) -> user name\n",
    "- gender: string (nullable = true) -> user gender\n",
    "- itemInSession: long (nullable = true) -> log count in a given session\n",
    "- lastName: string (nullable = true) -> user name\n",
    "- length: double (nullable = true) -> song's length in seconds\n",
    "- level: string (nullable = true) -> subscription level; 2 categories (free and paid)\n",
    "- location: string (nullable = true) -> user location\n",
    "- method: string (nullable = true) -> http request method; 2 categories (GET and PUT)\n",
    "- page: string (nullable = true) -> type of interaction (page accessed in the music streaming app); 22 categories (NextSong, Home, Login, Cancellation Confirmation, etc.)\n",
    "- registration: long (nullable = true) -> user's registration timestamp\n",
    "- sessionId: long (nullable = true) -> session to which the log belongs to\n",
    "- song: string (nullable = true) -> song name\n",
    "- status: long (nullable = true) -> http status code; 3 categories (200, 307 and 404)\n",
    "- ts: long (nullable = true) -> (bigint) timestamp of a given log\n",
    "- userAgent: string (nullable = true) -> browser or tool for using service\n",
    "- userId: string (nullable = true) -> user identifier\n",
    "\n",
    "Selected features:\n",
    "\n",
    "Categorical features:\n",
    "- artist\n",
    "- auth\n",
    "- gender\n",
    "- level\n",
    "- location\n",
    "- page\n",
    "- sessionId\n",
    "- song\n",
    "- userId\n",
    "\n",
    "Numerical features:\n",
    "- itemInSession\n",
    "- length\n",
    "- registration\n",
    "- ts\n",
    "\n",
    "### 2.1 Define Churn\n",
    "\n",
    "Once you've done some preliminary analysis, create a column `Churn` to use as the label for your model. I suggest using the `Cancellation Confirmation` events to define your churn, which happen for both paid and free users. As a bonus task, you can also look into the `Downgrade` events."
   ]
  },
  {
   "cell_type": "code",
   "execution_count": 25,
   "metadata": {},
   "outputs": [],
   "source": [
    "# selecting only part of the data set\n",
    "\"\"\"\n",
    " |-- artist: string (nullable = true) -> artist name\n",
    " |-- auth: string (nullable = true) -> cancelled/guest/loggedin/loggedout\n",
    " |-- firstName: string (nullable = true) -> user name\n",
    " |-- gender: string (nullable = true) -> user gender\n",
    " |-- itemInSession: long (nullable = true) -> log count in a given session\n",
    " |-- lastName: string (nullable = true) -> user name\n",
    " |-- length: double (nullable = true) -> song's length in seconds\n",
    " |-- level: string (nullable = true) -> subscription level; 2 categories (free and paid)\n",
    " |-- location: string (nullable = true) -> user location\n",
    " |-- method: string (nullable = true) -> http request method; 2 categories (GET and PUT)\n",
    " |-- page: string (nullable = true) -> type of interaction (page accessed in the music streaming app); 22 categories (NextSong, Home, Login, Cancellation Confirmation, etc.)\n",
    " |-- registration: long (nullable = true) -> user's registration timestamp\n",
    " |-- sessionId: long (nullable = true) -> session to which the log belongs to\n",
    " |-- song: string (nullable = true) -> song name\n",
    " |-- status: long (nullable = true) -> http status code; 3 categories (200, 307 and 404)\n",
    " |-- ts: long (nullable = true) -> (bigint) timestamp of a given log\n",
    " |-- userAgent: string (nullable = true) -> browser or tool for using service\n",
    " |-- userId: string (nullable = true) -> user identifier\n",
    "\"\"\"\n",
    "sparkify_df = sparkify_log_valid.select(\n",
    "    'artist','auth','gender','itemInSession', 'length', 'level',\n",
    "    'location', 'page', 'sessionId', 'song', 'userId', 'ts', 'registration'\n",
    ")"
   ]
  },
  {
   "cell_type": "code",
   "execution_count": 26,
   "metadata": {},
   "outputs": [
    {
     "name": "stdout",
     "output_type": "stream",
     "text": [
      "root\n",
      " |-- artist: string (nullable = true)\n",
      " |-- auth: string (nullable = true)\n",
      " |-- gender: string (nullable = true)\n",
      " |-- itemInSession: long (nullable = true)\n",
      " |-- length: double (nullable = true)\n",
      " |-- level: string (nullable = true)\n",
      " |-- location: string (nullable = true)\n",
      " |-- page: string (nullable = true)\n",
      " |-- sessionId: long (nullable = true)\n",
      " |-- song: string (nullable = true)\n",
      " |-- userId: string (nullable = true)\n",
      " |-- ts: long (nullable = true)\n",
      " |-- registration: long (nullable = true)\n",
      "\n"
     ]
    }
   ],
   "source": [
    "# data type and the column names\n",
    "sparkify_df.printSchema()"
   ]
  },
  {
   "cell_type": "code",
   "execution_count": 27,
   "metadata": {},
   "outputs": [],
   "source": [
    "#  create a column Churn to use as the label for your model. - Cancellation Confirmation\n",
    "#sparkify_df.Churn\n",
    "flag_cancellation_event = udf(lambda x: 1 if x == \"Cancellation Confirmation\" else 0, IntegerType())\n",
    "sparkify_df_churn = sparkify_df.withColumn(\"Churn\", flag_cancellation_event(\"page\"))"
   ]
  },
  {
   "cell_type": "code",
   "execution_count": 28,
   "metadata": {},
   "outputs": [
    {
     "name": "stdout",
     "output_type": "stream",
     "text": [
      "root\n",
      " |-- artist: string (nullable = true)\n",
      " |-- auth: string (nullable = true)\n",
      " |-- gender: string (nullable = true)\n",
      " |-- itemInSession: long (nullable = true)\n",
      " |-- length: double (nullable = true)\n",
      " |-- level: string (nullable = true)\n",
      " |-- location: string (nullable = true)\n",
      " |-- page: string (nullable = true)\n",
      " |-- sessionId: long (nullable = true)\n",
      " |-- song: string (nullable = true)\n",
      " |-- userId: string (nullable = true)\n",
      " |-- ts: long (nullable = true)\n",
      " |-- registration: long (nullable = true)\n",
      " |-- Churn: integer (nullable = true)\n",
      "\n"
     ]
    }
   ],
   "source": [
    "# data type and the column names\n",
    "sparkify_df_churn.printSchema()"
   ]
  },
  {
   "cell_type": "code",
   "execution_count": 29,
   "metadata": {},
   "outputs": [
    {
     "name": "stdout",
     "output_type": "stream",
     "text": [
      "+-----+\n",
      "|Churn|\n",
      "+-----+\n",
      "|    0|\n",
      "|    1|\n",
      "+-----+\n",
      "\n"
     ]
    }
   ],
   "source": [
    "# drop duplicates\n",
    "sparkify_df_churn.dropDuplicates()\n",
    "sparkify_df_churn.select(\"Churn\").dropDuplicates().sort(\"Churn\").show()"
   ]
  },
  {
   "cell_type": "markdown",
   "metadata": {},
   "source": [
    "###  2.2 Explore Data\n",
    "Once you've defined churn, perform some exploratory data analysis to observe the behavior for users who stayed vs users who churned. You can start by exploring aggregates on these two groups of users, observing how much of a specific action they experienced per a certain time unit or number of songs played.\n",
    "\n",
    "#### 2.2.1 Calculating Statistics by Hour"
   ]
  },
  {
   "cell_type": "code",
   "execution_count": 30,
   "metadata": {},
   "outputs": [],
   "source": [
    "get_hour = udf(lambda x: datetime.datetime.fromtimestamp(x / 1000.0). hour)"
   ]
  },
  {
   "cell_type": "code",
   "execution_count": 31,
   "metadata": {},
   "outputs": [
    {
     "name": "stdout",
     "output_type": "stream",
     "text": [
      "+-------------+\n",
      "|           ts|\n",
      "+-------------+\n",
      "|1538352117000|\n",
      "|1538352180000|\n",
      "|1538352394000|\n",
      "|1538352416000|\n",
      "|1538352676000|\n",
      "|1538352678000|\n",
      "|1538352886000|\n",
      "|1538352899000|\n",
      "|1538352905000|\n",
      "|1538353084000|\n",
      "|1538353146000|\n",
      "|1538353150000|\n",
      "|1538353218000|\n",
      "|1538353375000|\n",
      "|1538353376000|\n",
      "|1538353441000|\n",
      "|1538353576000|\n",
      "|1538353668000|\n",
      "|1538353687000|\n",
      "|1538353744000|\n",
      "+-------------+\n",
      "only showing top 20 rows\n",
      "\n"
     ]
    }
   ],
   "source": [
    "sparkify_df_churn.select(\"ts\").dropDuplicates().sort(\"ts\").show()"
   ]
  },
  {
   "cell_type": "code",
   "execution_count": 32,
   "metadata": {},
   "outputs": [],
   "source": [
    "sparkify_df_hour = sparkify_df_churn.withColumn(\"hour\", get_hour(sparkify_df_churn.ts))"
   ]
  },
  {
   "cell_type": "code",
   "execution_count": 33,
   "metadata": {},
   "outputs": [
    {
     "name": "stdout",
     "output_type": "stream",
     "text": [
      "root\n",
      " |-- artist: string (nullable = true)\n",
      " |-- auth: string (nullable = true)\n",
      " |-- gender: string (nullable = true)\n",
      " |-- itemInSession: long (nullable = true)\n",
      " |-- length: double (nullable = true)\n",
      " |-- level: string (nullable = true)\n",
      " |-- location: string (nullable = true)\n",
      " |-- page: string (nullable = true)\n",
      " |-- sessionId: long (nullable = true)\n",
      " |-- song: string (nullable = true)\n",
      " |-- userId: string (nullable = true)\n",
      " |-- ts: long (nullable = true)\n",
      " |-- registration: long (nullable = true)\n",
      " |-- Churn: integer (nullable = true)\n",
      " |-- hour: string (nullable = true)\n",
      "\n"
     ]
    }
   ],
   "source": [
    "sparkify_df_hour.printSchema()"
   ]
  },
  {
   "cell_type": "code",
   "execution_count": 34,
   "metadata": {},
   "outputs": [
    {
     "data": {
      "text/plain": [
       "Row(artist='Martha Tilston', auth='Logged In', gender='M', itemInSession=50, length=277.89016, level='paid', location='Bakersfield, CA', page='NextSong', sessionId=29, song='Rockpools', userId='30', ts=1538352117000, registration=1538173362000, Churn=0, hour='0')"
      ]
     },
     "execution_count": 34,
     "metadata": {},
     "output_type": "execute_result"
    }
   ],
   "source": [
    "sparkify_df_hour.head()"
   ]
  },
  {
   "cell_type": "code",
   "execution_count": 35,
   "metadata": {},
   "outputs": [
    {
     "name": "stdout",
     "output_type": "stream",
     "text": [
      "+----+-----+\n",
      "|hour|count|\n",
      "+----+-----+\n",
      "|   0| 9062|\n",
      "|   1| 8388|\n",
      "|   2| 8336|\n",
      "|   3| 8355|\n",
      "|   4| 8147|\n",
      "|   5| 8178|\n",
      "|   6| 8054|\n",
      "|   7| 8091|\n",
      "|   8| 8253|\n",
      "|   9| 8498|\n",
      "|  10| 8882|\n",
      "|  11| 8830|\n",
      "|  12| 9326|\n",
      "|  13| 9644|\n",
      "|  14|10494|\n",
      "|  15|11354|\n",
      "|  16|11636|\n",
      "|  17|11460|\n",
      "|  18|11124|\n",
      "|  19|10930|\n",
      "+----+-----+\n",
      "only showing top 20 rows\n",
      "\n"
     ]
    }
   ],
   "source": [
    "songs_in_hour = sparkify_df_hour.filter(sparkify_df_hour.page == \"NextSong\").groupby(sparkify_df_hour.hour).count().orderBy(sparkify_df_hour.hour.cast(\"float\"))\n",
    "songs_in_hour.show()"
   ]
  },
  {
   "cell_type": "code",
   "execution_count": 36,
   "metadata": {},
   "outputs": [
    {
     "name": "stdout",
     "output_type": "stream",
     "text": [
      "+----+-----+\n",
      "|hour|count|\n",
      "+----+-----+\n",
      "|   0|    3|\n",
      "|   1|    1|\n",
      "|   2|    1|\n",
      "|   3|    2|\n",
      "|   4|    2|\n",
      "|   5|    1|\n",
      "|   7|    6|\n",
      "|   8|    1|\n",
      "|  10|    1|\n",
      "|  11|    2|\n",
      "|  12|    2|\n",
      "|  13|    1|\n",
      "|  14|    1|\n",
      "|  15|    4|\n",
      "|  16|    4|\n",
      "|  17|    2|\n",
      "|  18|    3|\n",
      "|  19|    5|\n",
      "|  20|    3|\n",
      "|  21|    3|\n",
      "+----+-----+\n",
      "only showing top 20 rows\n",
      "\n"
     ]
    }
   ],
   "source": [
    "songs_hour_cancel = sparkify_df_hour.filter(sparkify_df_hour.page == \"Cancellation Confirmation\").groupby(sparkify_df_hour.hour).count().orderBy(sparkify_df_hour.hour.cast(\"float\"))\n",
    "songs_hour_cancel.show()"
   ]
  },
  {
   "cell_type": "code",
   "execution_count": 37,
   "metadata": {},
   "outputs": [
    {
     "data": {
      "image/png": "[encoded data removed]",
      "text/plain": [
       "<matplotlib.figure.Figure at 0x7f7b66946278>"
      ]
     },
     "metadata": {
      "needs_background": "light"
     },
     "output_type": "display_data"
    }
   ],
   "source": [
    "# all song play hour \n",
    "songs_in_hour_pd = songs_in_hour.toPandas()\n",
    "songs_in_hour_pd.hour = pd.to_numeric(songs_in_hour_pd.hour)\n",
    "\n",
    "# service cancelation hour\n",
    "songs_hour_cancel_pd = songs_hour_cancel.toPandas()\n",
    "songs_hour_cancel_pd.hour = pd.to_numeric(songs_hour_cancel_pd.hour)\n",
    "\n",
    "# plotting\n",
    "plt.scatter(songs_in_hour_pd[\"hour\"], songs_in_hour_pd[\"count\"]/songs_in_hour_pd[\"count\"].sum(), c=\"purple\", label=\"All User\")\n",
    "plt.scatter(songs_hour_cancel_pd[\"hour\"], songs_hour_cancel_pd[\"count\"]/songs_hour_cancel_pd[\"count\"].sum(), c = \"orange\", label=\"Cancelled User\")\n",
    "plt.xlim(-1, 24)\n",
    "plt.legend()\n",
    "plt.xlabel(\"Hour\")\n",
    "plt.ylabel(\"Songs played\");"
   ]
  },
  {
   "cell_type": "markdown",
   "metadata": {},
   "source": [
    "Thus the cancelation is mostly happend in morning around 7 am and in evening around 19 pm.  "
   ]
  },
  {
   "cell_type": "markdown",
   "metadata": {},
   "source": [
    "# 3. Feature Engineering\n",
    "Once you've familiarized yourself with the data, build out the features you find promising to train your model on. To work with the full dataset, you can follow the following steps.\n",
    "- Write a script to extract the necessary features from the smaller subset of data\n",
    "- Ensure that your script is scalable, using the best practices discussed in Lesson 3\n",
    "- Try your script on the full data set, debugging your script if necessary\n",
    "\n",
    "If you are working in the classroom workspace, you can just extract features based on the small subset of data contained here. Be sure to transfer over this work to the larger dataset when you work on your Spark cluster.\n",
    "\n",
    "### 3.1 Project Goal\n",
    "The goal for this project is to understand the main features that contribute to user service cancellation, and potentially provide suggestion for improving user service experience. I'd like to understand following questions:\n",
    "\n",
    "- How long does it take for user to cancel the service?\n",
    "- What are the top songs paid user like?\n",
    "- What is the main factor that contribute to a free user subscribing the service?\n",
    "- What is the main factor that contribute to a paid user cancel service?\n"
   ]
  },
  {
   "cell_type": "markdown",
   "metadata": {},
   "source": [
    "### 3.2 How long does it take for user to cancel the service?"
   ]
  },
  {
   "cell_type": "code",
   "execution_count": 38,
   "metadata": {},
   "outputs": [
    {
     "name": "stdout",
     "output_type": "stream",
     "text": [
      "+------+-------------+-------------+--------------------+\n",
      "|userId| registration|           ts|                page|\n",
      "+------+-------------+-------------+--------------------+\n",
      "|    18|1535623466000|1538943990000|Cancellation Conf...|\n",
      "|    32|1537167593000|1539033046000|Cancellation Conf...|\n",
      "|   125|1533157139000|1539318918000|Cancellation Conf...|\n",
      "|   105|1536817381000|1539375441000|Cancellation Conf...|\n",
      "|    17|1538333829000|1539465584000|Cancellation Conf...|\n",
      "+------+-------------+-------------+--------------------+\n",
      "only showing top 5 rows\n",
      "\n"
     ]
    }
   ],
   "source": [
    "# create data frame containing time info\n",
    "cancel_period_df = sparkify_df_hour.filter(sparkify_df_hour.page == \"Cancellation Confirmation\").select('userId', 'registration', 'ts', 'page')\n",
    "cancel_period_df.show(5)"
   ]
  },
  {
   "cell_type": "code",
   "execution_count": 39,
   "metadata": {},
   "outputs": [],
   "source": [
    "get_date = udf(lambda x: datetime.datetime.fromtimestamp(x / 1000.0).isoformat())"
   ]
  },
  {
   "cell_type": "code",
   "execution_count": 40,
   "metadata": {},
   "outputs": [
    {
     "name": "stdout",
     "output_type": "stream",
     "text": [
      "+------+-------------+-------------+--------------------+-------------------+-------------------+\n",
      "|userId| registration|           ts|                page|            re_date|           can_date|\n",
      "+------+-------------+-------------+--------------------+-------------------+-------------------+\n",
      "|    18|1535623466000|1538943990000|Cancellation Conf...|2018-08-30T10:04:26|2018-10-07T20:26:30|\n",
      "|    32|1537167593000|1539033046000|Cancellation Conf...|2018-09-17T06:59:53|2018-10-08T21:10:46|\n",
      "|   125|1533157139000|1539318918000|Cancellation Conf...|2018-08-01T20:58:59|2018-10-12T04:35:18|\n",
      "|   105|1536817381000|1539375441000|Cancellation Conf...|2018-09-13T05:43:01|2018-10-12T20:17:21|\n",
      "|    17|1538333829000|1539465584000|Cancellation Conf...|2018-09-30T18:57:09|2018-10-13T21:19:44|\n",
      "+------+-------------+-------------+--------------------+-------------------+-------------------+\n",
      "only showing top 5 rows\n",
      "\n"
     ]
    }
   ],
   "source": [
    "cancel_period_df_date = cancel_period_df.withColumn(\"re_date\", get_date(cancel_period_df.registration))\n",
    "cancel_period_df_date = cancel_period_df_date.withColumn(\"can_date\", get_date(cancel_period_df_date.ts))\n",
    "cancel_period_df_date.show(5)"
   ]
  },
  {
   "cell_type": "code",
   "execution_count": 41,
   "metadata": {},
   "outputs": [
    {
     "name": "stdout",
     "output_type": "stream",
     "text": [
      "+------+-------------+-------------+-------------------------+-------------------+-------------------+---------+\n",
      "|userId|registration |ts           |page                     |re_date            |can_date           |date_diff|\n",
      "+------+-------------+-------------+-------------------------+-------------------+-------------------+---------+\n",
      "|18    |1535623466000|1538943990000|Cancellation Confirmation|2018-08-30T10:04:26|2018-10-07T20:26:30|38       |\n",
      "|32    |1537167593000|1539033046000|Cancellation Confirmation|2018-09-17T06:59:53|2018-10-08T21:10:46|21       |\n",
      "|125   |1533157139000|1539318918000|Cancellation Confirmation|2018-08-01T20:58:59|2018-10-12T04:35:18|72       |\n",
      "|105   |1536817381000|1539375441000|Cancellation Confirmation|2018-09-13T05:43:01|2018-10-12T20:17:21|29       |\n",
      "|17    |1538333829000|1539465584000|Cancellation Confirmation|2018-09-30T18:57:09|2018-10-13T21:19:44|13       |\n",
      "+------+-------------+-------------+-------------------------+-------------------+-------------------+---------+\n",
      "only showing top 5 rows\n",
      "\n"
     ]
    }
   ],
   "source": [
    "cancel_period_df_date = cancel_period_df_date.withColumn(\n",
    "    \"date_diff\", \n",
    "    F.datediff(F.col('can_date'), F.col('re_date'))\n",
    ")\n",
    "cancel_period_df_date.show(5, truncate=False)"
   ]
  },
  {
   "cell_type": "code",
   "execution_count": 42,
   "metadata": {},
   "outputs": [
    {
     "data": {
      "text/html": [
       "<div>\n",
       "<style scoped>\n",
       "    .dataframe tbody tr th:only-of-type {\n",
       "        vertical-align: middle;\n",
       "    }\n",
       "\n",
       "    .dataframe tbody tr th {\n",
       "        vertical-align: top;\n",
       "    }\n",
       "\n",
       "    .dataframe thead th {\n",
       "        text-align: right;\n",
       "    }\n",
       "</style>\n",
       "<table border=\"1\" class=\"dataframe\">\n",
       "  <thead>\n",
       "    <tr style=\"text-align: right;\">\n",
       "      <th></th>\n",
       "      <th>userId</th>\n",
       "      <th>registration</th>\n",
       "      <th>ts</th>\n",
       "      <th>page</th>\n",
       "      <th>re_date</th>\n",
       "      <th>can_date</th>\n",
       "      <th>date_diff</th>\n",
       "    </tr>\n",
       "  </thead>\n",
       "  <tbody>\n",
       "    <tr>\n",
       "      <th>0</th>\n",
       "      <td>18</td>\n",
       "      <td>1535623466000</td>\n",
       "      <td>1538943990000</td>\n",
       "      <td>Cancellation Confirmation</td>\n",
       "      <td>2018-08-30T10:04:26</td>\n",
       "      <td>2018-10-07T20:26:30</td>\n",
       "      <td>38</td>\n",
       "    </tr>\n",
       "    <tr>\n",
       "      <th>1</th>\n",
       "      <td>32</td>\n",
       "      <td>1537167593000</td>\n",
       "      <td>1539033046000</td>\n",
       "      <td>Cancellation Confirmation</td>\n",
       "      <td>2018-09-17T06:59:53</td>\n",
       "      <td>2018-10-08T21:10:46</td>\n",
       "      <td>21</td>\n",
       "    </tr>\n",
       "    <tr>\n",
       "      <th>2</th>\n",
       "      <td>125</td>\n",
       "      <td>1533157139000</td>\n",
       "      <td>1539318918000</td>\n",
       "      <td>Cancellation Confirmation</td>\n",
       "      <td>2018-08-01T20:58:59</td>\n",
       "      <td>2018-10-12T04:35:18</td>\n",
       "      <td>72</td>\n",
       "    </tr>\n",
       "    <tr>\n",
       "      <th>3</th>\n",
       "      <td>105</td>\n",
       "      <td>1536817381000</td>\n",
       "      <td>1539375441000</td>\n",
       "      <td>Cancellation Confirmation</td>\n",
       "      <td>2018-09-13T05:43:01</td>\n",
       "      <td>2018-10-12T20:17:21</td>\n",
       "      <td>29</td>\n",
       "    </tr>\n",
       "    <tr>\n",
       "      <th>4</th>\n",
       "      <td>17</td>\n",
       "      <td>1538333829000</td>\n",
       "      <td>1539465584000</td>\n",
       "      <td>Cancellation Confirmation</td>\n",
       "      <td>2018-09-30T18:57:09</td>\n",
       "      <td>2018-10-13T21:19:44</td>\n",
       "      <td>13</td>\n",
       "    </tr>\n",
       "  </tbody>\n",
       "</table>\n",
       "</div>"
      ],
      "text/plain": [
       "  userId   registration             ts                       page  \\\n",
       "0     18  1535623466000  1538943990000  Cancellation Confirmation   \n",
       "1     32  1537167593000  1539033046000  Cancellation Confirmation   \n",
       "2    125  1533157139000  1539318918000  Cancellation Confirmation   \n",
       "3    105  1536817381000  1539375441000  Cancellation Confirmation   \n",
       "4     17  1538333829000  1539465584000  Cancellation Confirmation   \n",
       "\n",
       "               re_date             can_date  date_diff  \n",
       "0  2018-08-30T10:04:26  2018-10-07T20:26:30         38  \n",
       "1  2018-09-17T06:59:53  2018-10-08T21:10:46         21  \n",
       "2  2018-08-01T20:58:59  2018-10-12T04:35:18         72  \n",
       "3  2018-09-13T05:43:01  2018-10-12T20:17:21         29  \n",
       "4  2018-09-30T18:57:09  2018-10-13T21:19:44         13  "
      ]
     },
     "execution_count": 42,
     "metadata": {},
     "output_type": "execute_result"
    }
   ],
   "source": [
    "cancel_period_pd = cancel_period_df_date.toPandas()\n",
    "cancel_period_pd.date_diff = pd.to_numeric(cancel_period_pd.date_diff)\n",
    "cancel_period_pd.head(5)"
   ]
  },
  {
   "cell_type": "code",
   "execution_count": 43,
   "metadata": {},
   "outputs": [
    {
     "data": {
      "text/plain": [
       "count     52.000000\n",
       "mean      57.365385\n",
       "std       36.587809\n",
       "min        5.000000\n",
       "25%       30.500000\n",
       "50%       51.500000\n",
       "75%       73.750000\n",
       "max      188.000000\n",
       "Name: date_diff, dtype: float64"
      ]
     },
     "execution_count": 43,
     "metadata": {},
     "output_type": "execute_result"
    }
   ],
   "source": [
    "cancel_period_pd.date_diff.describe()"
   ]
  },
  {
   "cell_type": "code",
   "execution_count": 44,
   "metadata": {},
   "outputs": [
    {
     "data": {
      "text/plain": [
       "Text(0,0.5,'Counts')"
      ]
     },
     "execution_count": 44,
     "metadata": {},
     "output_type": "execute_result"
    },
    {
     "data": {
      "image/png": "[encoded data removed]",
      "text/plain": [
       "<matplotlib.figure.Figure at 0x7f7b64298860>"
      ]
     },
     "metadata": {
      "needs_background": "light"
     },
     "output_type": "display_data"
    }
   ],
   "source": [
    "cancel_period_pd.date_diff.hist(bins =25, color ='purple')\n",
    "plt.xlabel(\"Cancellation Period\")\n",
    "plt.ylabel(\"Counts\")"
   ]
  },
  {
   "cell_type": "markdown",
   "metadata": {},
   "source": [
    "The average time interval for a user to subscribe and then cancel is 57 days. Most unsubscription happens around 50 days. Only few user unsubscribe after 188 days. "
   ]
  },
  {
   "cell_type": "markdown",
   "metadata": {},
   "source": [
    "### 3.3 What are the top songs paid user like?"
   ]
  },
  {
   "cell_type": "code",
   "execution_count": 45,
   "metadata": {},
   "outputs": [
    {
     "name": "stdout",
     "output_type": "stream",
     "text": [
      "+------+--------------------+\n",
      "|userId|                song|\n",
      "+------+--------------------+\n",
      "|    30|           Rockpools|\n",
      "|    30|   Time For Miracles|\n",
      "|    30|Harder Better Fas...|\n",
      "|    30|Passengers (Old A...|\n",
      "|    30|                null|\n",
      "+------+--------------------+\n",
      "only showing top 5 rows\n",
      "\n"
     ]
    }
   ],
   "source": [
    "# create data frame containing song info\n",
    "topsong_df = sparkify_df_hour.filter(sparkify_df_hour.level == \"paid\").select('userId', 'song')\n",
    "topsong_df.show(5)"
   ]
  },
  {
   "cell_type": "code",
   "execution_count": 46,
   "metadata": {},
   "outputs": [
    {
     "name": "stdout",
     "output_type": "stream",
     "text": [
      "+--------------------+-----+\n",
      "|                song|count|\n",
      "+--------------------+-----+\n",
      "|                null|36316|\n",
      "|      You're The One|  915|\n",
      "|                Undo|  842|\n",
      "|             Revelry|  686|\n",
      "|       Sehr kosmisch|  597|\n",
      "|Horn Concerto No....|  521|\n",
      "|Dog Days Are Over...|  445|\n",
      "|        Use Somebody|  377|\n",
      "|             Secrets|  374|\n",
      "|             Invalid|  353|\n",
      "|              Canada|  349|\n",
      "|    Ain't Misbehavin|  329|\n",
      "|       ReprÃÂ©sente|  317|\n",
      "|Catch You Baby (S...|  311|\n",
      "|SinceritÃÂ© Et J...|  309|\n",
      "|              Yellow|  292|\n",
      "|    Somebody To Love|  280|\n",
      "|            The Gift|  271|\n",
      "|    Hey_ Soul Sister|  269|\n",
      "|            Tive Sim|  259|\n",
      "+--------------------+-----+\n",
      "only showing top 20 rows\n",
      "\n"
     ]
    }
   ],
   "source": [
    "sparkify_df_hour.filter(sparkify_df_hour.level == \"paid\").groupby(sparkify_df_hour.song).count().orderBy('count', ascending = False).show()"
   ]
  },
  {
   "cell_type": "markdown",
   "metadata": {},
   "source": [
    "Top songs subscribed user like are:\n",
    "- You're The One\n",
    "- Undo\n",
    "- Revel"
   ]
  },
  {
   "cell_type": "markdown",
   "metadata": {},
   "source": [
    "### 3.4 Feature engineering for modeling\n",
    "\n",
    "Considering features that potentially contributing to a free user subscribing the service，including：\n",
    "\n",
    "Each row is **userId**\n",
    "\n",
    "Categorical features:\n",
    "- 1. artist -> number of artist listened by the user\n",
    "- 2. gender -> true categorical\n",
    "- 4. page -> for types of activities, it is possible to count the frequency for each user\n",
    "    - Add Friend\n",
    "    - Add to Playlist\n",
    "    - Error\n",
    "    - Downgrade\n",
    "    - Help\n",
    "    - NextSong\n",
    "    - Settings\n",
    "    - Thumbs Down\n",
    "    - Thumbs Up\n",
    "    - Upgrade\n",
    "- 5. sessionId -> converting to session numbers\n",
    "- 6. song -> number of songs listened by the user\n",
    "\n",
    "Thus my dependent vaiable y is **level**.\n",
    "Goal: create model to predict level label (free/paid)"
   ]
  },
  {
   "cell_type": "code",
   "execution_count": 47,
   "metadata": {},
   "outputs": [
    {
     "name": "stdout",
     "output_type": "stream",
     "text": [
      "root\n",
      " |-- artist: string (nullable = true)\n",
      " |-- auth: string (nullable = true)\n",
      " |-- gender: string (nullable = true)\n",
      " |-- itemInSession: long (nullable = true)\n",
      " |-- length: double (nullable = true)\n",
      " |-- level: string (nullable = true)\n",
      " |-- location: string (nullable = true)\n",
      " |-- page: string (nullable = true)\n",
      " |-- sessionId: long (nullable = true)\n",
      " |-- song: string (nullable = true)\n",
      " |-- userId: string (nullable = true)\n",
      " |-- ts: long (nullable = true)\n",
      " |-- registration: long (nullable = true)\n",
      " |-- Churn: integer (nullable = true)\n",
      " |-- hour: string (nullable = true)\n",
      "\n"
     ]
    }
   ],
   "source": [
    "# starting point\n",
    "sparkify_df_hour.printSchema()"
   ]
  },
  {
   "cell_type": "code",
   "execution_count": 48,
   "metadata": {},
   "outputs": [
    {
     "name": "stdout",
     "output_type": "stream",
     "text": [
      "+------+-----------+\n",
      "|userId|aritstCount|\n",
      "+------+-----------+\n",
      "|100010|        252|\n",
      "|200002|        339|\n",
      "|   125|          8|\n",
      "+------+-----------+\n",
      "only showing top 3 rows\n",
      "\n"
     ]
    },
    {
     "data": {
      "text/plain": [
       "(None, 225)"
      ]
     },
     "execution_count": 48,
     "metadata": {},
     "output_type": "execute_result"
    }
   ],
   "source": [
    "# 1. artist -> number of artist listened by the user\n",
    "feature_artist = sparkify_df_hour.filter(sparkify_df_hour.page==\"NextSong\").select(\"userId\", \"artist\").dropDuplicates().groupby(\"userId\").count()\n",
    "feature_artist = feature_artist.withColumnRenamed(\"count\", \"aritstCount\")\n",
    "feature_artist.show(3), feature_artist.count()"
   ]
  },
  {
   "cell_type": "code",
   "execution_count": 49,
   "metadata": {},
   "outputs": [
    {
     "name": "stdout",
     "output_type": "stream",
     "text": [
      "+------+------+\n",
      "|userId|gender|\n",
      "+------+------+\n",
      "|    44|     1|\n",
      "|    46|     1|\n",
      "|    41|     1|\n",
      "+------+------+\n",
      "only showing top 3 rows\n",
      "\n"
     ]
    },
    {
     "data": {
      "text/plain": [
       "(None, 225)"
      ]
     },
     "execution_count": 49,
     "metadata": {},
     "output_type": "execute_result"
    }
   ],
   "source": [
    "# 2. gender -> true categorical\n",
    "feature_gender = sparkify_df_hour.select(\"userId\", \"gender\").dropDuplicates()\n",
    "feature_gender = feature_gender.replace([\"M\", \"F\"], [\"0\", \"1\"], \"gender\")\n",
    "feature_gender = feature_gender.select(\"userId\", feature_gender.gender.cast(\"int\"))\n",
    "feature_gender.show(3), feature_gender.count()"
   ]
  },
  {
   "cell_type": "code",
   "execution_count": 50,
   "metadata": {},
   "outputs": [
    {
     "name": "stdout",
     "output_type": "stream",
     "text": [
      "+------+--------------+\n",
      "|userId|addfriendCount|\n",
      "+------+--------------+\n",
      "|100010|             4|\n",
      "|200002|             4|\n",
      "|    51|            28|\n",
      "+------+--------------+\n",
      "only showing top 3 rows\n",
      "\n"
     ]
    },
    {
     "data": {
      "text/plain": [
       "(None, 206)"
      ]
     },
     "execution_count": 50,
     "metadata": {},
     "output_type": "execute_result"
    }
   ],
   "source": [
    "# 4.1 - Add Friend\n",
    "feature_page_addfriend = sparkify_df_hour.filter(sparkify_df_hour.page==\"Add Friend\").select(\"userId\", \"page\").groupby(\"userId\").count()\n",
    "feature_page_addfriend = feature_page_addfriend.withColumnRenamed(\"count\", \"addfriendCount\")\n",
    "feature_page_addfriend.show(3), feature_page_addfriend.count()"
   ]
  },
  {
   "cell_type": "code",
   "execution_count": 51,
   "metadata": {},
   "outputs": [
    {
     "name": "stdout",
     "output_type": "stream",
     "text": [
      "+------+---------------+\n",
      "|userId|addplylistCount|\n",
      "+------+---------------+\n",
      "|100010|              7|\n",
      "|200002|              8|\n",
      "|    51|             52|\n",
      "+------+---------------+\n",
      "only showing top 3 rows\n",
      "\n"
     ]
    },
    {
     "data": {
      "text/plain": [
       "(None, 215)"
      ]
     },
     "execution_count": 51,
     "metadata": {},
     "output_type": "execute_result"
    }
   ],
   "source": [
    "# 4.2 - Add to Playlist\n",
    "feature_page_playlist = sparkify_df_hour.filter(sparkify_df_hour.page==\"Add to Playlist\").select(\"userId\", \"page\").groupby(\"userId\").count()\n",
    "feature_page_playlist = feature_page_playlist.withColumnRenamed(\"count\", \"addplylistCount\")\n",
    "feature_page_playlist.show(3), feature_page_playlist.count()"
   ]
  },
  {
   "cell_type": "code",
   "execution_count": 52,
   "metadata": {},
   "outputs": [
    {
     "name": "stdout",
     "output_type": "stream",
     "text": [
      "+------+----------+\n",
      "|userId|errorCount|\n",
      "+------+----------+\n",
      "|   124|         6|\n",
      "|    51|         1|\n",
      "|     7|         1|\n",
      "+------+----------+\n",
      "only showing top 3 rows\n",
      "\n"
     ]
    },
    {
     "data": {
      "text/plain": [
       "(None, 117)"
      ]
     },
     "execution_count": 52,
     "metadata": {},
     "output_type": "execute_result"
    }
   ],
   "source": [
    "# 4.3 - Error\n",
    "feature_page_error = sparkify_df_hour.filter(sparkify_df_hour.page==\"Error\").select(\"userId\", \"page\").groupby(\"userId\").count()\n",
    "feature_page_error = feature_page_error.withColumnRenamed(\"count\", \"errorCount\")\n",
    "feature_page_error.show(3), feature_page_error.count()"
   ]
  },
  {
   "cell_type": "code",
   "execution_count": 53,
   "metadata": {},
   "outputs": [
    {
     "name": "stdout",
     "output_type": "stream",
     "text": [
      "+------+--------------+\n",
      "|userId|downgradeCount|\n",
      "+------+--------------+\n",
      "|200002|             5|\n",
      "|    51|            23|\n",
      "|   124|            41|\n",
      "+------+--------------+\n",
      "only showing top 3 rows\n",
      "\n"
     ]
    },
    {
     "data": {
      "text/plain": [
       "(None, 154)"
      ]
     },
     "execution_count": 53,
     "metadata": {},
     "output_type": "execute_result"
    }
   ],
   "source": [
    "# 4.4 - Downgrade\n",
    "feature_page_downgrade = sparkify_df_hour.filter(sparkify_df_hour.page==\"Downgrade\").select(\"userId\", \"page\").groupby(\"userId\").count()\n",
    "feature_page_downgrade = feature_page_downgrade.withColumnRenamed(\"count\", \"downgradeCount\")\n",
    "feature_page_downgrade.show(3), feature_page_downgrade.count()"
   ]
  },
  {
   "cell_type": "code",
   "execution_count": 54,
   "metadata": {},
   "outputs": [
    {
     "name": "stdout",
     "output_type": "stream",
     "text": [
      "+------+---------+\n",
      "|userId|helpCount|\n",
      "+------+---------+\n",
      "|100010|        2|\n",
      "|200002|        2|\n",
      "|    51|       12|\n",
      "+------+---------+\n",
      "only showing top 3 rows\n",
      "\n"
     ]
    },
    {
     "data": {
      "text/plain": [
       "(None, 192)"
      ]
     },
     "execution_count": 54,
     "metadata": {},
     "output_type": "execute_result"
    }
   ],
   "source": [
    "# 4.5 - Help\n",
    "feature_page_help = sparkify_df_hour.filter(sparkify_df_hour.page==\"Help\").select(\"userId\", \"page\").groupby(\"userId\").count()\n",
    "feature_page_help = feature_page_help.withColumnRenamed(\"count\", \"helpCount\")\n",
    "feature_page_help.show(3), feature_page_help.count()"
   ]
  },
  {
   "cell_type": "code",
   "execution_count": 55,
   "metadata": {},
   "outputs": [
    {
     "name": "stdout",
     "output_type": "stream",
     "text": [
      "+------+-------------+\n",
      "|userId|NextSongCount|\n",
      "+------+-------------+\n",
      "|100010|          275|\n",
      "|200002|          387|\n",
      "|   125|            8|\n",
      "+------+-------------+\n",
      "only showing top 3 rows\n",
      "\n"
     ]
    },
    {
     "data": {
      "text/plain": [
       "(None, 225)"
      ]
     },
     "execution_count": 55,
     "metadata": {},
     "output_type": "execute_result"
    }
   ],
   "source": [
    "# 4.6 - NextSong\n",
    "feature_page_NextSong = sparkify_df_hour.filter(sparkify_df_hour.page==\"NextSong\").select(\"userId\", \"page\").groupby(\"userId\").count()\n",
    "feature_page_NextSong = feature_page_NextSong.withColumnRenamed(\"count\", \"NextSongCount\")\n",
    "feature_page_NextSong.show(3), feature_page_NextSong.count()"
   ]
  },
  {
   "cell_type": "code",
   "execution_count": 56,
   "metadata": {},
   "outputs": [
    {
     "name": "stdout",
     "output_type": "stream",
     "text": [
      "+------+-------------+\n",
      "|userId|SettingsCount|\n",
      "+------+-------------+\n",
      "|200002|            3|\n",
      "|    51|           12|\n",
      "|   124|           20|\n",
      "+------+-------------+\n",
      "only showing top 3 rows\n",
      "\n"
     ]
    },
    {
     "data": {
      "text/plain": [
       "(None, 195)"
      ]
     },
     "execution_count": 56,
     "metadata": {},
     "output_type": "execute_result"
    }
   ],
   "source": [
    "# 4.7 - Settings\n",
    "feature_page_Settings = sparkify_df_hour.filter(sparkify_df_hour.page==\"Settings\").select(\"userId\", \"page\").groupby(\"userId\").count()\n",
    "feature_page_Settings = feature_page_Settings.withColumnRenamed(\"count\", \"SettingsCount\")\n",
    "feature_page_Settings.show(3), feature_page_Settings.count()"
   ]
  },
  {
   "cell_type": "code",
   "execution_count": 57,
   "metadata": {},
   "outputs": [
    {
     "name": "stdout",
     "output_type": "stream",
     "text": [
      "+------+--------------+\n",
      "|userId|ThumbDownCount|\n",
      "+------+--------------+\n",
      "|100010|             5|\n",
      "|200002|             6|\n",
      "|    51|            21|\n",
      "+------+--------------+\n",
      "only showing top 3 rows\n",
      "\n"
     ]
    },
    {
     "data": {
      "text/plain": [
       "(None, 203)"
      ]
     },
     "execution_count": 57,
     "metadata": {},
     "output_type": "execute_result"
    }
   ],
   "source": [
    "# 4.8 - Thumbs Down\n",
    "feature_page_ThumbDown = sparkify_df_hour.filter(sparkify_df_hour.page==\"Thumbs Down\").select(\"userId\", \"page\").groupby(\"userId\").count()\n",
    "feature_page_ThumbDown = feature_page_ThumbDown.withColumnRenamed(\"count\", \"ThumbDownCount\")\n",
    "feature_page_ThumbDown.show(3), feature_page_ThumbDown.count()"
   ]
  },
  {
   "cell_type": "code",
   "execution_count": 58,
   "metadata": {},
   "outputs": [
    {
     "name": "stdout",
     "output_type": "stream",
     "text": [
      "+------+------------+\n",
      "|userId|ThumbUpCount|\n",
      "+------+------------+\n",
      "|100010|          17|\n",
      "|200002|          21|\n",
      "|    51|         100|\n",
      "+------+------------+\n",
      "only showing top 3 rows\n",
      "\n"
     ]
    },
    {
     "data": {
      "text/plain": [
       "(None, 220)"
      ]
     },
     "execution_count": 58,
     "metadata": {},
     "output_type": "execute_result"
    }
   ],
   "source": [
    "# 4.9 - Thumbs Up\n",
    "feature_page_ThumbUp = sparkify_df_hour.filter(sparkify_df_hour.page==\"Thumbs Up\").select(\"userId\", \"page\").groupby(\"userId\").count()\n",
    "feature_page_ThumbUp = feature_page_ThumbUp.withColumnRenamed(\"count\", \"ThumbUpCount\")\n",
    "feature_page_ThumbUp.show(3), feature_page_ThumbUp.count()"
   ]
  },
  {
   "cell_type": "code",
   "execution_count": 59,
   "metadata": {},
   "outputs": [
    {
     "name": "stdout",
     "output_type": "stream",
     "text": [
      "+------+------------+\n",
      "|userId|upgradeCount|\n",
      "+------+------------+\n",
      "|100010|           2|\n",
      "|200002|           2|\n",
      "|     7|           2|\n",
      "+------+------------+\n",
      "only showing top 3 rows\n",
      "\n"
     ]
    },
    {
     "data": {
      "text/plain": [
       "(None, 168)"
      ]
     },
     "execution_count": 59,
     "metadata": {},
     "output_type": "execute_result"
    }
   ],
   "source": [
    "# 4.10 - Upgrade\n",
    "feature_page_upgrade = sparkify_df_hour.filter(sparkify_df_hour.page==\"Upgrade\").select(\"userId\", \"page\").groupby(\"userId\").count()\n",
    "feature_page_upgrade = feature_page_upgrade.withColumnRenamed(\"count\", \"upgradeCount\")\n",
    "feature_page_upgrade.show(3), feature_page_upgrade.count()"
   ]
  },
  {
   "cell_type": "code",
   "execution_count": 60,
   "metadata": {},
   "outputs": [
    {
     "name": "stdout",
     "output_type": "stream",
     "text": [
      "+------+-------------+\n",
      "|userId|sessionsCount|\n",
      "+------+-------------+\n",
      "|100010|          381|\n",
      "|200002|          474|\n",
      "|   125|           11|\n",
      "+------+-------------+\n",
      "only showing top 3 rows\n",
      "\n"
     ]
    },
    {
     "data": {
      "text/plain": [
       "(None, 225)"
      ]
     },
     "execution_count": 60,
     "metadata": {},
     "output_type": "execute_result"
    }
   ],
   "source": [
    "# 5. sessionId -> converting to session numbers\n",
    "feature_sessions = sparkify_df_hour.select(\"userId\", \"sessionId\").groupby(\"userId\").count()\n",
    "feature_sessions = feature_sessions.withColumnRenamed(\"count\", \"sessionsCount\")\n",
    "feature_sessions.show(3), feature_sessions.count()"
   ]
  },
  {
   "cell_type": "code",
   "execution_count": 61,
   "metadata": {},
   "outputs": [
    {
     "name": "stdout",
     "output_type": "stream",
     "text": [
      "+------+----------+\n",
      "|userId|songsCount|\n",
      "+------+----------+\n",
      "|100010|       381|\n",
      "|200002|       474|\n",
      "|   125|        11|\n",
      "+------+----------+\n",
      "only showing top 3 rows\n",
      "\n"
     ]
    },
    {
     "data": {
      "text/plain": [
       "(None, 225)"
      ]
     },
     "execution_count": 61,
     "metadata": {},
     "output_type": "execute_result"
    }
   ],
   "source": [
    "# 6. song -> number of songs listened by the user\n",
    "feature_songs = sparkify_df_hour.select(\"userId\", \"song\").groupby(\"userId\").count()\n",
    "feature_songs = feature_songs.withColumnRenamed(\"count\", \"songsCount\")\n",
    "feature_songs.show(3), feature_songs.count()"
   ]
  },
  {
   "cell_type": "code",
   "execution_count": 62,
   "metadata": {},
   "outputs": [
    {
     "name": "stdout",
     "output_type": "stream",
     "text": [
      "+------+-----+-------------+\n",
      "|userId|level|           ts|\n",
      "+------+-----+-------------+\n",
      "|100010|    0|1542823952000|\n",
      "|200002|    1|1542324354000|\n",
      "|   125|    0|1539318918000|\n",
      "+------+-----+-------------+\n",
      "only showing top 3 rows\n",
      "\n"
     ]
    },
    {
     "data": {
      "text/plain": [
       "(None, 225)"
      ]
     },
     "execution_count": 62,
     "metadata": {},
     "output_type": "execute_result"
    }
   ],
   "source": [
    "# label: level\n",
    "# notice the way for match values\n",
    "label_level = sparkify_df_hour.select(\"userId\", \"level\", \"ts\").dropDuplicates()\n",
    "label_level = label_level.replace([\"free\", \"paid\"], [\"0\", \"1\"], \"level\")\n",
    "label_level = label_level.select(\"userId\", label_level.level.cast(\"int\"), \"ts\")\n",
    "\n",
    "w = Window.partitionBy('userId')\n",
    "label_level = label_level.withColumn('maxts', F.max('ts').over(w))\\\n",
    "                .where(F.col('ts') == F.col('maxts'))\\\n",
    "                .drop('maxts')\\\n",
    "\n",
    "label_level.show(3), label_level.count()"
   ]
  },
  {
   "cell_type": "code",
   "execution_count": 63,
   "metadata": {},
   "outputs": [
    {
     "name": "stdout",
     "output_type": "stream",
     "text": [
      "+------+----+\n",
      "|userId|page|\n",
      "+------+----+\n",
      "|100025|   1|\n",
      "|    18|   1|\n",
      "|   122|   1|\n",
      "+------+----+\n",
      "only showing top 3 rows\n",
      "\n"
     ]
    },
    {
     "data": {
      "text/plain": [
       "(None, 52)"
      ]
     },
     "execution_count": 63,
     "metadata": {},
     "output_type": "execute_result"
    }
   ],
   "source": [
    "# label: cancellation\n",
    "label_churn = sparkify_df_hour.select(\"userId\", \"page\").filter(sparkify_df_hour.page==\"Cancellation Confirmation\").dropDuplicates()\n",
    "label_churn = label_churn.replace(['Cancellation Confirmation'],['1'], 'page')\n",
    "label_churn = label_churn.select('userId', label_churn.page.cast('int'))\n",
    "\n",
    "label_churn.show(3), label_churn.count()"
   ]
  },
  {
   "cell_type": "code",
   "execution_count": 64,
   "metadata": {},
   "outputs": [],
   "source": [
    "# Combining features\n",
    "features_all = [\n",
    "    feature_artist,\n",
    "    feature_gender,\n",
    "    feature_page_addfriend,\n",
    "    feature_page_playlist,\n",
    "    feature_page_error,\n",
    "    feature_page_downgrade,\n",
    "    feature_page_help,\n",
    "    feature_page_Settings,\n",
    "    feature_page_ThumbDown,\n",
    "    feature_page_ThumbUp,\n",
    "    feature_page_upgrade,\n",
    "    feature_sessions,\n",
    "    feature_songs\n",
    "]"
   ]
  },
  {
   "cell_type": "code",
   "execution_count": 65,
   "metadata": {
    "scrolled": true
   },
   "outputs": [
    {
     "name": "stdout",
     "output_type": "stream",
     "text": [
      "+------+-----------+------+--------------+---------------+----------+--------------+---------+-------------+--------------+------------+------------+-------------+----------+\n",
      "|userId|aritstCount|gender|addfriendCount|addplylistCount|errorCount|downgradeCount|helpCount|SettingsCount|ThumbDownCount|ThumbUpCount|upgradeCount|sessionsCount|songsCount|\n",
      "+------+-----------+------+--------------+---------------+----------+--------------+---------+-------------+--------------+------------+------------+-------------+----------+\n",
      "|100010|        252|     1|             4|              7|      null|          null|        2|         null|             5|          17|           2|          381|       381|\n",
      "|200002|        339|     0|             4|              8|      null|             5|        2|            3|             6|          21|           2|          474|       474|\n",
      "|   125|          8|     0|          null|           null|      null|          null|     null|         null|          null|        null|        null|           11|        11|\n",
      "|   124|       2232|     1|            74|            118|         6|            41|       23|           20|            41|         171|        null|         4825|      4825|\n",
      "|    51|       1385|     0|            28|             52|         1|            23|       12|           12|            21|         100|        null|         2464|      2464|\n",
      "+------+-----------+------+--------------+---------------+----------+--------------+---------+-------------+--------------+------------+------------+-------------+----------+\n",
      "only showing top 5 rows\n",
      "\n",
      "root\n",
      " |-- userId: string (nullable = true)\n",
      " |-- aritstCount: long (nullable = true)\n",
      " |-- gender: integer (nullable = true)\n",
      " |-- addfriendCount: long (nullable = true)\n",
      " |-- addplylistCount: long (nullable = true)\n",
      " |-- errorCount: long (nullable = true)\n",
      " |-- downgradeCount: long (nullable = true)\n",
      " |-- helpCount: long (nullable = true)\n",
      " |-- SettingsCount: long (nullable = true)\n",
      " |-- ThumbDownCount: long (nullable = true)\n",
      " |-- ThumbUpCount: long (nullable = true)\n",
      " |-- upgradeCount: long (nullable = true)\n",
      " |-- sessionsCount: long (nullable = true)\n",
      " |-- songsCount: long (nullable = true)\n",
      "\n"
     ]
    },
    {
     "data": {
      "text/plain": [
       "(None, None)"
      ]
     },
     "execution_count": 65,
     "metadata": {},
     "output_type": "execute_result"
    }
   ],
   "source": [
    "# prepare the final dataframe to join all the other features\n",
    "features_all_df = sparkify_df_hour.select(\"userId\").dropDuplicates()\n",
    "\n",
    "for feature in features_all:\n",
    "    features_all_df = features_all_df.join(feature, on =['userId'], how='left')\n",
    "\n",
    "features_all_df.show(5), features_all_df.printSchema()"
   ]
  },
  {
   "cell_type": "code",
   "execution_count": 66,
   "metadata": {},
   "outputs": [
    {
     "name": "stdout",
     "output_type": "stream",
     "text": [
      "+------+-----------+------+--------------+---------------+----------+--------------+---------+-------------+--------------+------------+------------+-------------+----------+\n",
      "|userId|aritstCount|gender|addfriendCount|addplylistCount|errorCount|downgradeCount|helpCount|SettingsCount|ThumbDownCount|ThumbUpCount|upgradeCount|sessionsCount|songsCount|\n",
      "+------+-----------+------+--------------+---------------+----------+--------------+---------+-------------+--------------+------------+------------+-------------+----------+\n",
      "|100010|        252|     1|             4|              7|         0|             0|        2|            0|             5|          17|           2|          381|       381|\n",
      "|200002|        339|     0|             4|              8|         0|             5|        2|            3|             6|          21|           2|          474|       474|\n",
      "|   125|          8|     0|             0|              0|         0|             0|        0|            0|             0|           0|           0|           11|        11|\n",
      "+------+-----------+------+--------------+---------------+----------+--------------+---------+-------------+--------------+------------+------------+-------------+----------+\n",
      "only showing top 3 rows\n",
      "\n"
     ]
    },
    {
     "data": {
      "text/plain": [
       "(None, 225)"
      ]
     },
     "execution_count": 66,
     "metadata": {},
     "output_type": "execute_result"
    }
   ],
   "source": [
    "features_all_df = features_all_df.na.fill(0)\n",
    "features_all_df.show(3), features_all_df.count()"
   ]
  },
  {
   "cell_type": "code",
   "execution_count": 67,
   "metadata": {},
   "outputs": [
    {
     "name": "stdout",
     "output_type": "stream",
     "text": [
      "+------+-----+-------------+\n",
      "|userId|level|           ts|\n",
      "+------+-----+-------------+\n",
      "|100010|    0|1542823952000|\n",
      "|200002|    1|1542324354000|\n",
      "|   125|    0|1539318918000|\n",
      "+------+-----+-------------+\n",
      "only showing top 3 rows\n",
      "\n",
      "root\n",
      " |-- userId: string (nullable = true)\n",
      " |-- level: integer (nullable = true)\n",
      " |-- ts: long (nullable = true)\n",
      "\n"
     ]
    },
    {
     "data": {
      "text/plain": [
       "(None, None, 225)"
      ]
     },
     "execution_count": 67,
     "metadata": {},
     "output_type": "execute_result"
    }
   ],
   "source": [
    "# create label data frame with the same user id\n",
    "label_level_df = features_all_df.select('userId').join(label_level, on =['userId'], how='left')\n",
    "label_level_df.show(3), label_level_df.printSchema(), label_level_df.count()"
   ]
  },
  {
   "cell_type": "code",
   "execution_count": 68,
   "metadata": {},
   "outputs": [
    {
     "name": "stdout",
     "output_type": "stream",
     "text": [
      "+------+----+\n",
      "|userId|page|\n",
      "+------+----+\n",
      "|100010|   0|\n",
      "|200002|   0|\n",
      "|   125|   1|\n",
      "|   124|   0|\n",
      "|    51|   1|\n",
      "|     7|   0|\n",
      "|    15|   0|\n",
      "|    54|   1|\n",
      "|   155|   0|\n",
      "|100014|   1|\n",
      "+------+----+\n",
      "only showing top 10 rows\n",
      "\n",
      "root\n",
      " |-- userId: string (nullable = true)\n",
      " |-- page: integer (nullable = true)\n",
      "\n"
     ]
    },
    {
     "data": {
      "text/plain": [
       "(None, None, 225)"
      ]
     },
     "execution_count": 68,
     "metadata": {},
     "output_type": "execute_result"
    }
   ],
   "source": [
    "# create label data frame with the same user id\n",
    "label_churn_df = features_all_df.select('userId').join(label_churn, on =['userId'], how='left').na.fill(0)\n",
    "label_churn_df.show(10), label_churn_df.printSchema(), label_churn_df.count()"
   ]
  },
  {
   "cell_type": "code",
   "execution_count": null,
   "metadata": {},
   "outputs": [],
   "source": []
  },
  {
   "cell_type": "code",
   "execution_count": 69,
   "metadata": {},
   "outputs": [
    {
     "data": {
      "text/plain": [
       "['aritstCount',\n",
       " 'gender',\n",
       " 'addfriendCount',\n",
       " 'addplylistCount',\n",
       " 'errorCount',\n",
       " 'downgradeCount',\n",
       " 'helpCount',\n",
       " 'SettingsCount',\n",
       " 'ThumbDownCount',\n",
       " 'ThumbUpCount',\n",
       " 'upgradeCount',\n",
       " 'sessionsCount',\n",
       " 'songsCount']"
      ]
     },
     "execution_count": 69,
     "metadata": {},
     "output_type": "execute_result"
    }
   ],
   "source": [
    "features_all_df.columns[1:]"
   ]
  },
  {
   "cell_type": "markdown",
   "metadata": {},
   "source": [
    "Except gender and location, all other columns can be easily cast to numberic."
   ]
  },
  {
   "cell_type": "markdown",
   "metadata": {},
   "source": [
    "# 4. Modeling\n",
    "Split the full dataset into train, test, and validation sets. Test out several of the machine learning methods you learned. Evaluate the accuracy of the various models, tuning parameters as necessary. Determine your winning model based on test accuracy and report results on the validation set. Since the churned users are a fairly small subset, I suggest using F1 score as the metric to optimize.\n",
    "\n",
    "### 4.1 What is the main factor that contribute to a free user subscribing the service?"
   ]
  },
  {
   "cell_type": "code",
   "execution_count": 70,
   "metadata": {},
   "outputs": [
    {
     "data": {
      "text/plain": [
       "225"
      ]
     },
     "execution_count": 70,
     "metadata": {},
     "output_type": "execute_result"
    }
   ],
   "source": [
    "# create vector\n",
    "assembler = VectorAssembler(inputCols=features_all_df.columns[1:], outputCol=\"NumFeatures\")\n",
    "data = assembler.transform(features_all_df)\n",
    "data.count()"
   ]
  },
  {
   "cell_type": "code",
   "execution_count": 71,
   "metadata": {},
   "outputs": [
    {
     "name": "stdout",
     "output_type": "stream",
     "text": [
      "root\n",
      " |-- userId: string (nullable = true)\n",
      " |-- aritstCount: long (nullable = true)\n",
      " |-- gender: integer (nullable = true)\n",
      " |-- addfriendCount: long (nullable = true)\n",
      " |-- addplylistCount: long (nullable = true)\n",
      " |-- errorCount: long (nullable = true)\n",
      " |-- downgradeCount: long (nullable = true)\n",
      " |-- helpCount: long (nullable = true)\n",
      " |-- SettingsCount: long (nullable = true)\n",
      " |-- ThumbDownCount: long (nullable = true)\n",
      " |-- ThumbUpCount: long (nullable = true)\n",
      " |-- upgradeCount: long (nullable = true)\n",
      " |-- sessionsCount: long (nullable = true)\n",
      " |-- songsCount: long (nullable = true)\n",
      " |-- NumFeatures: vector (nullable = true)\n",
      "\n"
     ]
    }
   ],
   "source": [
    "data.printSchema()"
   ]
  },
  {
   "cell_type": "code",
   "execution_count": 72,
   "metadata": {},
   "outputs": [
    {
     "data": {
      "text/plain": [
       "[Row(userId='100010', aritstCount=252, gender=1, addfriendCount=4, addplylistCount=7, errorCount=0, downgradeCount=0, helpCount=2, SettingsCount=0, ThumbDownCount=5, ThumbUpCount=17, upgradeCount=2, sessionsCount=381, songsCount=381, NumFeatures=DenseVector([252.0, 1.0, 4.0, 7.0, 0.0, 0.0, 2.0, 0.0, 5.0, 17.0, 2.0, 381.0, 381.0])),\n",
       " Row(userId='200002', aritstCount=339, gender=0, addfriendCount=4, addplylistCount=8, errorCount=0, downgradeCount=5, helpCount=2, SettingsCount=3, ThumbDownCount=6, ThumbUpCount=21, upgradeCount=2, sessionsCount=474, songsCount=474, NumFeatures=DenseVector([339.0, 0.0, 4.0, 8.0, 0.0, 5.0, 2.0, 3.0, 6.0, 21.0, 2.0, 474.0, 474.0])),\n",
       " Row(userId='125', aritstCount=8, gender=0, addfriendCount=0, addplylistCount=0, errorCount=0, downgradeCount=0, helpCount=0, SettingsCount=0, ThumbDownCount=0, ThumbUpCount=0, upgradeCount=0, sessionsCount=11, songsCount=11, NumFeatures=SparseVector(13, {0: 8.0, 11: 11.0, 12: 11.0})),\n",
       " Row(userId='124', aritstCount=2232, gender=1, addfriendCount=74, addplylistCount=118, errorCount=6, downgradeCount=41, helpCount=23, SettingsCount=20, ThumbDownCount=41, ThumbUpCount=171, upgradeCount=0, sessionsCount=4825, songsCount=4825, NumFeatures=DenseVector([2232.0, 1.0, 74.0, 118.0, 6.0, 41.0, 23.0, 20.0, 41.0, 171.0, 0.0, 4825.0, 4825.0])),\n",
       " Row(userId='51', aritstCount=1385, gender=0, addfriendCount=28, addplylistCount=52, errorCount=1, downgradeCount=23, helpCount=12, SettingsCount=12, ThumbDownCount=21, ThumbUpCount=100, upgradeCount=0, sessionsCount=2464, songsCount=2464, NumFeatures=DenseVector([1385.0, 0.0, 28.0, 52.0, 1.0, 23.0, 12.0, 12.0, 21.0, 100.0, 0.0, 2464.0, 2464.0]))]"
      ]
     },
     "execution_count": 72,
     "metadata": {},
     "output_type": "execute_result"
    }
   ],
   "source": [
    "data.head(5)"
   ]
  },
  {
   "cell_type": "code",
   "execution_count": 73,
   "metadata": {},
   "outputs": [],
   "source": [
    "# scale the data\n",
    "scaler = StandardScaler(inputCol=\"NumFeatures\", outputCol=\"ScaledNumFeatures\", withStd=True)\n",
    "scalerModel = scaler.fit(data)\n",
    "data = scalerModel.transform(data)"
   ]
  },
  {
   "cell_type": "code",
   "execution_count": 74,
   "metadata": {},
   "outputs": [
    {
     "name": "stdout",
     "output_type": "stream",
     "text": [
      "+------+-----------+------+--------------+---------------+----------+--------------+---------+-------------+--------------+------------+------------+-------------+----------+--------------------+--------------------+\n",
      "|userId|aritstCount|gender|addfriendCount|addplylistCount|errorCount|downgradeCount|helpCount|SettingsCount|ThumbDownCount|ThumbUpCount|upgradeCount|sessionsCount|songsCount|         NumFeatures|   ScaledNumFeatures|\n",
      "+------+-----------+------+--------------+---------------+----------+--------------+---------+-------------+--------------+------------+------------+-------------+----------+--------------------+--------------------+\n",
      "|100010|        252|     1|             4|              7|         0|             0|        2|            0|             5|          17|           2|          381|       381|[252.0,1.0,4.0,7....|[0.41725179202960...|\n",
      "|200002|        339|     0|             4|              8|         0|             5|        2|            3|             6|          21|           2|          474|       474|[339.0,0.0,4.0,8....|[0.56130300594458...|\n",
      "|   125|          8|     0|             0|              0|         0|             0|        0|            0|             0|           0|           0|           11|        11|(13,[0,11,12],[8....|(13,[0,11,12],[0....|\n",
      "|   124|       2232|     1|            74|            118|         6|            41|       23|           20|            41|         171|           0|         4825|      4825|[2232.0,1.0,74.0,...|[3.69565872940505...|\n",
      "|    51|       1385|     0|            28|             52|         1|            23|       12|           12|            21|         100|           0|         2464|      2464|[1385.0,0.0,28.0,...|[2.29322909508333...|\n",
      "+------+-----------+------+--------------+---------------+----------+--------------+---------+-------------+--------------+------------+------------+-------------+----------+--------------------+--------------------+\n",
      "only showing top 5 rows\n",
      "\n"
     ]
    }
   ],
   "source": [
    "data.show(5)"
   ]
  },
  {
   "cell_type": "code",
   "execution_count": 75,
   "metadata": {},
   "outputs": [
    {
     "name": "stdout",
     "output_type": "stream",
     "text": [
      "root\n",
      " |-- userId: string (nullable = true)\n",
      " |-- aritstCount: long (nullable = true)\n",
      " |-- gender: integer (nullable = true)\n",
      " |-- addfriendCount: long (nullable = true)\n",
      " |-- addplylistCount: long (nullable = true)\n",
      " |-- errorCount: long (nullable = true)\n",
      " |-- downgradeCount: long (nullable = true)\n",
      " |-- helpCount: long (nullable = true)\n",
      " |-- SettingsCount: long (nullable = true)\n",
      " |-- ThumbDownCount: long (nullable = true)\n",
      " |-- ThumbUpCount: long (nullable = true)\n",
      " |-- upgradeCount: long (nullable = true)\n",
      " |-- sessionsCount: long (nullable = true)\n",
      " |-- songsCount: long (nullable = true)\n",
      " |-- NumFeatures: vector (nullable = true)\n",
      " |-- ScaledNumFeatures: vector (nullable = true)\n",
      "\n"
     ]
    },
    {
     "data": {
      "text/plain": [
       "(None, 225)"
      ]
     },
     "execution_count": 75,
     "metadata": {},
     "output_type": "execute_result"
    }
   ],
   "source": [
    "data.printSchema(), data.count(),"
   ]
  },
  {
   "cell_type": "code",
   "execution_count": 76,
   "metadata": {},
   "outputs": [],
   "source": [
    "dataset = label_level_df.select('userId', 'level').join(data.select('userId', 'ScaledNumFeatures'), on='userId', how='left')\n",
    "dataset = dataset.select(col(\"level\").alias(\"label\"), col(\"ScaledNumFeatures\").alias(\"features\"))"
   ]
  },
  {
   "cell_type": "code",
   "execution_count": 77,
   "metadata": {},
   "outputs": [
    {
     "data": {
      "text/plain": [
       "[Row(label=0, features=DenseVector([0.4173, 2.0013, 0.1943, 0.214, 0.0, 0.0, 0.2761, 0.0, 0.3823, 0.2596, 0.7817, 0.2866, 0.2866])),\n",
       " Row(label=1, features=DenseVector([0.5613, 0.0, 0.1943, 0.2445, 0.0, 0.4261, 0.2761, 0.4296, 0.4588, 0.3207, 0.7817, 0.3565, 0.3565])),\n",
       " Row(label=0, features=SparseVector(13, {0: 0.0132, 11: 0.0083, 12: 0.0083})),\n",
       " Row(label=1, features=DenseVector([3.6957, 2.0013, 3.5954, 3.6067, 4.0744, 3.494, 3.1757, 2.8639, 3.1352, 2.6116, 0.0, 3.6291, 3.6291])),\n",
       " Row(label=1, features=DenseVector([2.2932, 0.0, 1.3604, 1.5894, 0.6791, 1.96, 1.6569, 1.7183, 1.6058, 1.5272, 0.0, 1.8533, 1.8533]))]"
      ]
     },
     "execution_count": 77,
     "metadata": {},
     "output_type": "execute_result"
    }
   ],
   "source": [
    "dataset.head(5)"
   ]
  },
  {
   "cell_type": "code",
   "execution_count": 78,
   "metadata": {},
   "outputs": [
    {
     "name": "stdout",
     "output_type": "stream",
     "text": [
      "+-----+--------------------+\n",
      "|label|            features|\n",
      "+-----+--------------------+\n",
      "|    0|[0.41725179202960...|\n",
      "|    1|[0.56130300594458...|\n",
      "|    0|(13,[0,11,12],[0....|\n",
      "+-----+--------------------+\n",
      "only showing top 3 rows\n",
      "\n",
      "root\n",
      " |-- label: integer (nullable = true)\n",
      " |-- features: vector (nullable = true)\n",
      "\n"
     ]
    },
    {
     "data": {
      "text/plain": [
       "(None, None, 225)"
      ]
     },
     "execution_count": 78,
     "metadata": {},
     "output_type": "execute_result"
    }
   ],
   "source": [
    "dataset.show(3), dataset.printSchema(), dataset.count()"
   ]
  },
  {
   "cell_type": "code",
   "execution_count": 79,
   "metadata": {},
   "outputs": [],
   "source": [
    "# split train, test set\n",
    "train, validation = dataset.randomSplit([0.8, 0.2], seed=123)"
   ]
  },
  {
   "cell_type": "code",
   "execution_count": null,
   "metadata": {},
   "outputs": [],
   "source": []
  },
  {
   "cell_type": "markdown",
   "metadata": {},
   "source": [
    "#### 4.1.1 Lasso linear model"
   ]
  },
  {
   "cell_type": "code",
   "execution_count": 80,
   "metadata": {},
   "outputs": [],
   "source": [
    "# linear regression \n",
    "lr = LinearRegression(maxIter=5, regParam=0.0, elasticNetParam=1.0 , fitIntercept=False, \\\n",
    "                      solver=\"auto\")"
   ]
  },
  {
   "cell_type": "code",
   "execution_count": 81,
   "metadata": {},
   "outputs": [],
   "source": [
    "lrModel_level = lr.fit(train)\n",
    "lrModel_level.write().overwrite().save('lrModel_level.model')"
   ]
  },
  {
   "cell_type": "code",
   "execution_count": 82,
   "metadata": {},
   "outputs": [
    {
     "data": {
      "text/plain": [
       "0.787324980047107"
      ]
     },
     "execution_count": 82,
     "metadata": {},
     "output_type": "execute_result"
    }
   ],
   "source": [
    "lrModel_level.summary.r2"
   ]
  },
  {
   "cell_type": "code",
   "execution_count": 83,
   "metadata": {},
   "outputs": [
    {
     "data": {
      "text/plain": [
       "DenseVector([1.7994, 0.0169, 0.3405, -0.0117, -0.0011, 0.2, -0.0627, -0.0231, -0.0704, 0.2596, 0.0284, -1.63, -0.5994])"
      ]
     },
     "execution_count": 83,
     "metadata": {},
     "output_type": "execute_result"
    }
   ],
   "source": [
    "lrModel_level.coefficients"
   ]
  },
  {
   "cell_type": "code",
   "execution_count": 84,
   "metadata": {},
   "outputs": [
    {
     "data": {
      "text/plain": [
       "['aritstCount',\n",
       " 'gender',\n",
       " 'addfriendCount',\n",
       " 'addplylistCount',\n",
       " 'errorCount',\n",
       " 'downgradeCount',\n",
       " 'helpCount',\n",
       " 'SettingsCount',\n",
       " 'ThumbDownCount',\n",
       " 'ThumbUpCount',\n",
       " 'upgradeCount',\n",
       " 'sessionsCount',\n",
       " 'songsCount']"
      ]
     },
     "execution_count": 84,
     "metadata": {},
     "output_type": "execute_result"
    }
   ],
   "source": [
    "features_all_df.columns[1:]"
   ]
  },
  {
   "cell_type": "code",
   "execution_count": 85,
   "metadata": {},
   "outputs": [
    {
     "data": {
      "text/html": [
       "<div>\n",
       "<style scoped>\n",
       "    .dataframe tbody tr th:only-of-type {\n",
       "        vertical-align: middle;\n",
       "    }\n",
       "\n",
       "    .dataframe tbody tr th {\n",
       "        vertical-align: top;\n",
       "    }\n",
       "\n",
       "    .dataframe thead th {\n",
       "        text-align: right;\n",
       "    }\n",
       "</style>\n",
       "<table border=\"1\" class=\"dataframe\">\n",
       "  <thead>\n",
       "    <tr style=\"text-align: right;\">\n",
       "      <th></th>\n",
       "      <th>feature</th>\n",
       "      <th>coef</th>\n",
       "    </tr>\n",
       "  </thead>\n",
       "  <tbody>\n",
       "    <tr>\n",
       "      <th>0</th>\n",
       "      <td>aritstCount</td>\n",
       "      <td>1.799450</td>\n",
       "    </tr>\n",
       "    <tr>\n",
       "      <th>2</th>\n",
       "      <td>addfriendCount</td>\n",
       "      <td>0.340525</td>\n",
       "    </tr>\n",
       "    <tr>\n",
       "      <th>9</th>\n",
       "      <td>ThumbUpCount</td>\n",
       "      <td>0.259553</td>\n",
       "    </tr>\n",
       "    <tr>\n",
       "      <th>5</th>\n",
       "      <td>downgradeCount</td>\n",
       "      <td>0.199955</td>\n",
       "    </tr>\n",
       "    <tr>\n",
       "      <th>10</th>\n",
       "      <td>upgradeCount</td>\n",
       "      <td>0.028441</td>\n",
       "    </tr>\n",
       "    <tr>\n",
       "      <th>1</th>\n",
       "      <td>gender</td>\n",
       "      <td>0.016902</td>\n",
       "    </tr>\n",
       "    <tr>\n",
       "      <th>4</th>\n",
       "      <td>errorCount</td>\n",
       "      <td>-0.001053</td>\n",
       "    </tr>\n",
       "    <tr>\n",
       "      <th>3</th>\n",
       "      <td>addplylistCount</td>\n",
       "      <td>-0.011718</td>\n",
       "    </tr>\n",
       "    <tr>\n",
       "      <th>7</th>\n",
       "      <td>SettingsCount</td>\n",
       "      <td>-0.023103</td>\n",
       "    </tr>\n",
       "    <tr>\n",
       "      <th>6</th>\n",
       "      <td>helpCount</td>\n",
       "      <td>-0.062746</td>\n",
       "    </tr>\n",
       "    <tr>\n",
       "      <th>8</th>\n",
       "      <td>ThumbDownCount</td>\n",
       "      <td>-0.070367</td>\n",
       "    </tr>\n",
       "    <tr>\n",
       "      <th>12</th>\n",
       "      <td>songsCount</td>\n",
       "      <td>-0.599392</td>\n",
       "    </tr>\n",
       "    <tr>\n",
       "      <th>11</th>\n",
       "      <td>sessionsCount</td>\n",
       "      <td>-1.630034</td>\n",
       "    </tr>\n",
       "  </tbody>\n",
       "</table>\n",
       "</div>"
      ],
      "text/plain": [
       "            feature      coef\n",
       "0       aritstCount  1.799450\n",
       "2    addfriendCount  0.340525\n",
       "9      ThumbUpCount  0.259553\n",
       "5    downgradeCount  0.199955\n",
       "10     upgradeCount  0.028441\n",
       "1            gender  0.016902\n",
       "4        errorCount -0.001053\n",
       "3   addplylistCount -0.011718\n",
       "7     SettingsCount -0.023103\n",
       "6         helpCount -0.062746\n",
       "8    ThumbDownCount -0.070367\n",
       "12       songsCount -0.599392\n",
       "11    sessionsCount -1.630034"
      ]
     },
     "execution_count": 85,
     "metadata": {},
     "output_type": "execute_result"
    }
   ],
   "source": [
    "lrModel_level_coef_pd = pd.DataFrame({\"feature\": features_all_df.columns[1:], \"coef\":lrModel_level.coefficients})\n",
    "lrModel_level_coef_pd.sort_values('coef', ascending=False)"
   ]
  },
  {
   "cell_type": "code",
   "execution_count": 112,
   "metadata": {
    "scrolled": false
   },
   "outputs": [
    {
     "name": "stdout",
     "output_type": "stream",
     "text": [
      "+-----+--------------------+-------------------+\n",
      "|label|            features|         prediction|\n",
      "+-----+--------------------+-------------------+\n",
      "|    1|[0.56130300594458...| 0.4096640089078738|\n",
      "|    0|[0.23511807328652...|0.12608678886093583|\n",
      "|    1|[2.05479949963784...| 1.0568398872605458|\n",
      "+-----+--------------------+-------------------+\n",
      "only showing top 3 rows\n",
      "\n"
     ]
    }
   ],
   "source": [
    "# testing set\n",
    "test_predict = lrModel_level.transform(validation)\n",
    "test_predict.show(3)"
   ]
  },
  {
   "cell_type": "code",
   "execution_count": 123,
   "metadata": {},
   "outputs": [
    {
     "name": "stdout",
     "output_type": "stream",
     "text": [
      "+-----+--------------------+-------------------+------------+\n",
      "|label|            features|         prediction|predict_true|\n",
      "+-----+--------------------+-------------------+------------+\n",
      "|    1|[0.56130300594458...| 0.4096640089078738|         0.0|\n",
      "|    0|[0.23511807328652...|0.12608678886093583|         0.0|\n",
      "|    1|[2.05479949963784...| 1.0568398872605458|         1.0|\n",
      "+-----+--------------------+-------------------+------------+\n",
      "only showing top 3 rows\n",
      "\n"
     ]
    }
   ],
   "source": [
    "# round prediction to 0 and 1\n",
    "get_pred = udf(lambda x: 1 if x >= 0.5 else 0)\n",
    "test_predict = test_predict.withColumn(\"predict_true\", get_pred(\"prediction\").cast('double'))\n",
    "test_predict.show(3)"
   ]
  },
  {
   "cell_type": "code",
   "execution_count": 124,
   "metadata": {},
   "outputs": [
    {
     "name": "stdout",
     "output_type": "stream",
     "text": [
      "root\n",
      " |-- label: integer (nullable = true)\n",
      " |-- features: vector (nullable = true)\n",
      " |-- prediction: double (nullable = false)\n",
      " |-- predict_true: double (nullable = true)\n",
      "\n"
     ]
    }
   ],
   "source": [
    "test_predict.printSchema()"
   ]
  },
  {
   "cell_type": "code",
   "execution_count": 125,
   "metadata": {},
   "outputs": [],
   "source": [
    "evaluator = MulticlassClassificationEvaluator(predictionCol=\"predict_true\")"
   ]
  },
  {
   "cell_type": "code",
   "execution_count": 126,
   "metadata": {},
   "outputs": [
    {
     "data": {
      "text/plain": [
       "0.7674621335948567"
      ]
     },
     "execution_count": 126,
     "metadata": {},
     "output_type": "execute_result"
    }
   ],
   "source": [
    "evaluator.evaluate(test_predict, {evaluator.metricName: \"f1\"})"
   ]
  },
  {
   "cell_type": "code",
   "execution_count": 127,
   "metadata": {},
   "outputs": [
    {
     "data": {
      "text/plain": [
       "0.7608695652173914"
      ]
     },
     "execution_count": 127,
     "metadata": {},
     "output_type": "execute_result"
    }
   ],
   "source": [
    "evaluator.evaluate(test_predict, {evaluator.metricName: \"accuracy\"})"
   ]
  },
  {
   "cell_type": "markdown",
   "metadata": {},
   "source": [
    "#### 4.1.1 GLM model"
   ]
  },
  {
   "cell_type": "code",
   "execution_count": 128,
   "metadata": {},
   "outputs": [],
   "source": [
    "gl = GeneralizedLinearRegression(family=\"gaussian\", link=\"identity\", linkPredictionCol=\"p\")"
   ]
  },
  {
   "cell_type": "code",
   "execution_count": 129,
   "metadata": {},
   "outputs": [],
   "source": [
    "glModel_level = gl.fit(train)\n",
    "glModel_level.write().overwrite().save('glModel_level.model')"
   ]
  },
  {
   "cell_type": "code",
   "execution_count": 130,
   "metadata": {},
   "outputs": [
    {
     "data": {
      "text/plain": [
       "Coefficients:\n",
       "    Feature Estimate    Std Error T Value P Value\n",
       "(Intercept)   0.1792       0.0624  2.8710  0.0046\n",
       " features_0   1.4209       0.2265  6.2746  0.0000\n",
       " features_1  -0.0083       0.0287 -0.2880  0.7737\n",
       " features_2   0.3209       0.0943  3.4037  0.0008\n",
       " features_3   0.0455       0.1860  0.2450  0.8068\n",
       " features_4  -0.0085       0.0425 -0.1996  0.8421\n",
       " features_5   0.2436       0.0918  2.6538  0.0087\n",
       " features_6  -0.0660       0.0839 -0.7864  0.4328\n",
       " features_7  -0.0372       0.0785 -0.4734  0.6366\n",
       " features_8  -0.0855       0.0570 -1.5015  0.1351\n",
       " features_9   0.2674       0.1275  2.0971  0.0375\n",
       "features_10   0.0128       0.0339  0.3785  0.7055\n",
       "features_11  -1.3965 1545133.9326  0.0000  1.0000\n",
       "features_12  -0.5130 1545133.9326  0.0000  1.0000\n",
       "\n",
       "(Dispersion parameter for gaussian family taken to be 0.1399)\n",
       "    Null deviance: 41.3966 on 165 degrees of freedom\n",
       "Residual deviance: 23.0914 on 165 degrees of freedom\n",
       "AIC: 171.4017"
      ]
     },
     "execution_count": 130,
     "metadata": {},
     "output_type": "execute_result"
    }
   ],
   "source": [
    "glModel_level.summary"
   ]
  },
  {
   "cell_type": "code",
   "execution_count": 132,
   "metadata": {},
   "outputs": [
    {
     "name": "stdout",
     "output_type": "stream",
     "text": [
      "+-----+--------------------+-------------------+-------------------+\n",
      "|label|            features|         prediction|                  p|\n",
      "+-----+--------------------+-------------------+-------------------+\n",
      "|    1|[0.56130300594458...| 0.4956579707593485| 0.4956579707593485|\n",
      "|    0|[0.23511807328652...|0.24840180311241106|0.24840180311241106|\n",
      "|    1|[2.05479949963784...|  1.083275700672967|  1.083275700672967|\n",
      "+-----+--------------------+-------------------+-------------------+\n",
      "only showing top 3 rows\n",
      "\n"
     ]
    }
   ],
   "source": [
    "gl_test_pred = glModel_level.transform(validation)\n",
    "gl_test_pred.show(3)"
   ]
  },
  {
   "cell_type": "code",
   "execution_count": 133,
   "metadata": {},
   "outputs": [
    {
     "name": "stdout",
     "output_type": "stream",
     "text": [
      "+-----+--------------------+-------------------+-------------------+------------+\n",
      "|label|            features|         prediction|                  p|predict_true|\n",
      "+-----+--------------------+-------------------+-------------------+------------+\n",
      "|    1|[0.56130300594458...| 0.4956579707593485| 0.4956579707593485|         0.0|\n",
      "|    0|[0.23511807328652...|0.24840180311241106|0.24840180311241106|         0.0|\n",
      "|    1|[2.05479949963784...|  1.083275700672967|  1.083275700672967|         1.0|\n",
      "+-----+--------------------+-------------------+-------------------+------------+\n",
      "only showing top 3 rows\n",
      "\n"
     ]
    }
   ],
   "source": [
    "# round prediction to 0 and 1\n",
    "gl_test_pred = gl_test_pred.withColumn(\"predict_true\", get_pred(\"prediction\").cast('double'))\n",
    "gl_test_pred.show(3)"
   ]
  },
  {
   "cell_type": "code",
   "execution_count": 136,
   "metadata": {},
   "outputs": [],
   "source": [
    "glm_evaluator = MulticlassClassificationEvaluator(predictionCol=\"predict_true\")"
   ]
  },
  {
   "cell_type": "code",
   "execution_count": 137,
   "metadata": {},
   "outputs": [
    {
     "data": {
      "text/plain": [
       "0.808266898908019"
      ]
     },
     "execution_count": 137,
     "metadata": {},
     "output_type": "execute_result"
    }
   ],
   "source": [
    "glm_evaluator.evaluate(gl_test_pred, {evaluator.metricName: \"f1\"})"
   ]
  },
  {
   "cell_type": "code",
   "execution_count": 138,
   "metadata": {},
   "outputs": [
    {
     "data": {
      "text/plain": [
       "0.808266898908019"
      ]
     },
     "execution_count": 138,
     "metadata": {},
     "output_type": "execute_result"
    }
   ],
   "source": [
    "glm_evaluator.evaluate(gl_test_pred, {evaluator.metricName: \"accuracy\"})"
   ]
  },
  {
   "cell_type": "code",
   "execution_count": 139,
   "metadata": {},
   "outputs": [
    {
     "data": {
      "text/plain": [
       "0.808266898908019"
      ]
     },
     "execution_count": 139,
     "metadata": {},
     "output_type": "execute_result"
    }
   ],
   "source": [
    "glm_evaluator.evaluate(gl_test_pred, {evaluator.metricName: \"r2\"})"
   ]
  },
  {
   "cell_type": "markdown",
   "metadata": {},
   "source": [
    "### 4.2\tWhat is the main factor that contribute to a paid user cancel service?"
   ]
  },
  {
   "cell_type": "code",
   "execution_count": 140,
   "metadata": {},
   "outputs": [],
   "source": [
    "dataset2 = label_churn_df.select('userId', 'page').join(data.select('userId', 'ScaledNumFeatures'), on='userId', how='left')\n",
    "dataset2 = dataset2.select(col(\"page\").alias(\"label\"), col(\"ScaledNumFeatures\").alias(\"features\"))"
   ]
  },
  {
   "cell_type": "code",
   "execution_count": 141,
   "metadata": {},
   "outputs": [],
   "source": [
    "# split train, test set\n",
    "train_cancel, validation_cancel = dataset2.randomSplit([0.8, 0.2], seed=123)"
   ]
  },
  {
   "cell_type": "code",
   "execution_count": 142,
   "metadata": {},
   "outputs": [],
   "source": [
    "# linear regression \n",
    "lr_cancel = LinearRegression(maxIter=5, regParam=0.0, elasticNetParam=1.0 , fitIntercept=False, \\\n",
    "                      solver=\"auto\")\n",
    "lrModel_churn = lr_cancel.fit(train_cancel)\n",
    "lrModel_churn.write().overwrite().save('lrModel_churn.model')"
   ]
  },
  {
   "cell_type": "code",
   "execution_count": 143,
   "metadata": {},
   "outputs": [
    {
     "data": {
      "text/plain": [
       "0.12648756657821092"
      ]
     },
     "execution_count": 143,
     "metadata": {},
     "output_type": "execute_result"
    }
   ],
   "source": [
    "lrModel_churn.summary.r2"
   ]
  },
  {
   "cell_type": "code",
   "execution_count": 144,
   "metadata": {},
   "outputs": [
    {
     "data": {
      "text/plain": [
       "DenseVector([0.023, 0.0612, -0.0151, -0.0143, -0.0284, -0.001, -0.0009, 0.0262, 0.0194, -0.022, 0.0719, -0.0033, -0.0033])"
      ]
     },
     "execution_count": 144,
     "metadata": {},
     "output_type": "execute_result"
    }
   ],
   "source": [
    "lrModel_churn.coefficients"
   ]
  },
  {
   "cell_type": "code",
   "execution_count": 145,
   "metadata": {},
   "outputs": [
    {
     "data": {
      "text/html": [
       "<div>\n",
       "<style scoped>\n",
       "    .dataframe tbody tr th:only-of-type {\n",
       "        vertical-align: middle;\n",
       "    }\n",
       "\n",
       "    .dataframe tbody tr th {\n",
       "        vertical-align: top;\n",
       "    }\n",
       "\n",
       "    .dataframe thead th {\n",
       "        text-align: right;\n",
       "    }\n",
       "</style>\n",
       "<table border=\"1\" class=\"dataframe\">\n",
       "  <thead>\n",
       "    <tr style=\"text-align: right;\">\n",
       "      <th></th>\n",
       "      <th>feature</th>\n",
       "      <th>coef</th>\n",
       "    </tr>\n",
       "  </thead>\n",
       "  <tbody>\n",
       "    <tr>\n",
       "      <th>10</th>\n",
       "      <td>upgradeCount</td>\n",
       "      <td>0.071912</td>\n",
       "    </tr>\n",
       "    <tr>\n",
       "      <th>1</th>\n",
       "      <td>gender</td>\n",
       "      <td>0.061156</td>\n",
       "    </tr>\n",
       "    <tr>\n",
       "      <th>7</th>\n",
       "      <td>SettingsCount</td>\n",
       "      <td>0.026228</td>\n",
       "    </tr>\n",
       "    <tr>\n",
       "      <th>0</th>\n",
       "      <td>aritstCount</td>\n",
       "      <td>0.022952</td>\n",
       "    </tr>\n",
       "    <tr>\n",
       "      <th>8</th>\n",
       "      <td>ThumbDownCount</td>\n",
       "      <td>0.019421</td>\n",
       "    </tr>\n",
       "    <tr>\n",
       "      <th>6</th>\n",
       "      <td>helpCount</td>\n",
       "      <td>-0.000869</td>\n",
       "    </tr>\n",
       "    <tr>\n",
       "      <th>5</th>\n",
       "      <td>downgradeCount</td>\n",
       "      <td>-0.001043</td>\n",
       "    </tr>\n",
       "    <tr>\n",
       "      <th>11</th>\n",
       "      <td>sessionsCount</td>\n",
       "      <td>-0.003272</td>\n",
       "    </tr>\n",
       "    <tr>\n",
       "      <th>12</th>\n",
       "      <td>songsCount</td>\n",
       "      <td>-0.003272</td>\n",
       "    </tr>\n",
       "    <tr>\n",
       "      <th>3</th>\n",
       "      <td>addplylistCount</td>\n",
       "      <td>-0.014250</td>\n",
       "    </tr>\n",
       "    <tr>\n",
       "      <th>2</th>\n",
       "      <td>addfriendCount</td>\n",
       "      <td>-0.015100</td>\n",
       "    </tr>\n",
       "    <tr>\n",
       "      <th>9</th>\n",
       "      <td>ThumbUpCount</td>\n",
       "      <td>-0.021964</td>\n",
       "    </tr>\n",
       "    <tr>\n",
       "      <th>4</th>\n",
       "      <td>errorCount</td>\n",
       "      <td>-0.028379</td>\n",
       "    </tr>\n",
       "  </tbody>\n",
       "</table>\n",
       "</div>"
      ],
      "text/plain": [
       "            feature      coef\n",
       "10     upgradeCount  0.071912\n",
       "1            gender  0.061156\n",
       "7     SettingsCount  0.026228\n",
       "0       aritstCount  0.022952\n",
       "8    ThumbDownCount  0.019421\n",
       "6         helpCount -0.000869\n",
       "5    downgradeCount -0.001043\n",
       "11    sessionsCount -0.003272\n",
       "12       songsCount -0.003272\n",
       "3   addplylistCount -0.014250\n",
       "2    addfriendCount -0.015100\n",
       "9      ThumbUpCount -0.021964\n",
       "4        errorCount -0.028379"
      ]
     },
     "execution_count": 145,
     "metadata": {},
     "output_type": "execute_result"
    }
   ],
   "source": [
    "lrModel_churn_coef_pd = pd.DataFrame({\"feature\": features_all_df.columns[1:], \"coef\":lrModel_churn.coefficients})\n",
    "lrModel_churn_coef_pd.sort_values('coef', ascending=False)"
   ]
  },
  {
   "cell_type": "markdown",
   "metadata": {},
   "source": [
    "# Final Steps\n",
    "Clean up your code, adding comments and renaming variables to make the code easier to read and maintain. Refer to the Spark Project Overview page and Data Scientist Capstone Project Rubric to make sure you are including all components of the capstone project and meet all expectations. Remember, this includes thorough documentation in a README file in a Github repository, as well as a web app or blog post."
   ]
  },
  {
   "cell_type": "code",
   "execution_count": null,
   "metadata": {},
   "outputs": [],
   "source": []
  }
 ],
 "metadata": {
  "kernelspec": {
   "display_name": "Python 3",
   "language": "python",
   "name": "python3"
  }
 },
 "nbformat": 4,
 "nbformat_minor": 2
}
